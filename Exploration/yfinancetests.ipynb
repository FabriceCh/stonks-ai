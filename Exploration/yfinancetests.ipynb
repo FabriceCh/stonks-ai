{
 "metadata": {
  "language_info": {
   "codemirror_mode": {
    "name": "ipython",
    "version": 3
   },
   "file_extension": ".py",
   "mimetype": "text/x-python",
   "name": "python",
   "nbconvert_exporter": "python",
   "pygments_lexer": "ipython3",
   "version": "3.8.5"
  },
  "orig_nbformat": 2,
  "kernelspec": {
   "name": "python385jvsc74a57bd00da335c34a6a6c6ce21eb4147172bec662356bbd00e66ff75f4af67e469e2ade",
   "display_name": "Python 3.8.5 64-bit (conda)"
  }
 },
 "nbformat": 4,
 "nbformat_minor": 2,
 "cells": [
  {
   "cell_type": "code",
   "execution_count": 1,
   "metadata": {},
   "outputs": [],
   "source": [
    "import yfinance as yf"
   ]
  },
  {
   "cell_type": "code",
   "execution_count": 3,
   "metadata": {},
   "outputs": [],
   "source": [
    "gme = yf.Ticker(\"GME\")"
   ]
  },
  {
   "cell_type": "code",
   "execution_count": 18,
   "metadata": {},
   "outputs": [
    {
     "output_type": "execute_result",
     "data": {
      "text/plain": [
       "{'zip': '76051',\n",
       " 'sector': 'Consumer Cyclical',\n",
       " 'fullTimeEmployees': 12000,\n",
       " 'longBusinessSummary': 'GameStop Corp., a specialty retailer, provides games and entertainment products through its e-commerce properties and various stores in the United States, Canada, Australia, and Europe. The company sells new and pre-owned video game platforms; accessories, such as controllers, gaming headsets, virtual reality products, and memory cards; new and pre-owned video game software; and in-game digital currency, digital downloadable content, and full-game downloads, as well as network points cards, and prepaid digital and subscription cards. It also sells collectibles comprising licensed merchandise primarily related to the video game, television, and movie industries, as well as pop culture themes. The company operates its stores and e-commerce sites under the GameStop, EB Games, and Micromania brands; and collectibles stores under the Zing Pop Culture and ThinkGeek brand, as well as offers Game Informer, a print and digital video game publication featuring reviews of new title releases, game tips, and news regarding the video game industry. As of January 30, 2021, it operated 4,816 stores. The company was formerly known as GSC Holdings Corp. GameStop Corp. was founded in 1996 and is headquartered in Grapevine, Texas.',\n",
       " 'city': 'Grapevine',\n",
       " 'phone': '817 424 2000',\n",
       " 'state': 'TX',\n",
       " 'country': 'United States',\n",
       " 'companyOfficers': [],\n",
       " 'website': 'http://www.gamestop.com',\n",
       " 'maxAge': 1,\n",
       " 'address1': '625 Westport Parkway',\n",
       " 'industry': 'Specialty Retail',\n",
       " 'previousClose': 154.69,\n",
       " 'regularMarketOpen': 171.8,\n",
       " 'twoHundredDayAverage': 72.892136,\n",
       " 'trailingAnnualDividendYield': 0,\n",
       " 'payoutRatio': 0,\n",
       " 'volume24Hr': None,\n",
       " 'regularMarketDayHigh': 175.2,\n",
       " 'navPrice': None,\n",
       " 'averageDailyVolume10Day': 11177850,\n",
       " 'totalAssets': None,\n",
       " 'regularMarketPreviousClose': 154.69,\n",
       " 'fiftyDayAverage': 181.17735,\n",
       " 'trailingAnnualDividendRate': 0,\n",
       " 'open': 171.8,\n",
       " 'toCurrency': None,\n",
       " 'averageVolume10days': 11177850,\n",
       " 'expireDate': None,\n",
       " 'yield': None,\n",
       " 'algorithm': None,\n",
       " 'dividendRate': None,\n",
       " 'exDividendDate': 1552521600,\n",
       " 'beta': -1.816878,\n",
       " 'circulatingSupply': None,\n",
       " 'startDate': None,\n",
       " 'regularMarketDayLow': 162.33,\n",
       " 'priceHint': 2,\n",
       " 'currency': 'USD',\n",
       " 'regularMarketVolume': 10428900,\n",
       " 'lastMarket': None,\n",
       " 'maxSupply': None,\n",
       " 'openInterest': None,\n",
       " 'marketCap': 11511093248,\n",
       " 'volumeAllCurrencies': None,\n",
       " 'strikePrice': None,\n",
       " 'averageVolume': 40919211,\n",
       " 'priceToSalesTrailing12Months': 2.2616003,\n",
       " 'dayLow': 162.33,\n",
       " 'ask': 164.9,\n",
       " 'ytdReturn': None,\n",
       " 'askSize': 1000,\n",
       " 'volume': 10428900,\n",
       " 'fiftyTwoWeekHigh': 483,\n",
       " 'forwardPE': -278.59323,\n",
       " 'fromCurrency': None,\n",
       " 'fiveYearAvgDividendYield': None,\n",
       " 'fiftyTwoWeekLow': 3.77,\n",
       " 'bid': 164.87,\n",
       " 'tradeable': False,\n",
       " 'dividendYield': None,\n",
       " 'bidSize': 1400,\n",
       " 'dayHigh': 175.2,\n",
       " 'exchange': 'NYQ',\n",
       " 'shortName': 'GameStop Corporation',\n",
       " 'longName': 'GameStop Corp.',\n",
       " 'exchangeTimezoneName': 'America/New_York',\n",
       " 'exchangeTimezoneShortName': 'EDT',\n",
       " 'isEsgPopulated': False,\n",
       " 'gmtOffSetMilliseconds': '-14400000',\n",
       " 'quoteType': 'EQUITY',\n",
       " 'symbol': 'GME',\n",
       " 'messageBoardId': 'finmb_1342560',\n",
       " 'market': 'us_market',\n",
       " 'annualHoldingsTurnover': None,\n",
       " 'enterpriseToRevenue': 2.231,\n",
       " 'beta3Year': None,\n",
       " 'profitMargins': -0.0423,\n",
       " 'enterpriseToEbitda': -67.359,\n",
       " '52WeekChange': 26.573975,\n",
       " 'morningStarRiskRating': None,\n",
       " 'forwardEps': -0.59,\n",
       " 'revenueQuarterlyGrowth': None,\n",
       " 'sharesOutstanding': 70031600,\n",
       " 'fundInceptionDate': None,\n",
       " 'annualReportExpenseRatio': None,\n",
       " 'bookValue': 6.688,\n",
       " 'sharesShort': 10696160,\n",
       " 'sharesPercentSharesOut': 0.1529,\n",
       " 'fundFamily': None,\n",
       " 'lastFiscalYearEnd': 1611964800,\n",
       " 'heldPercentInstitutions': 1.1054,\n",
       " 'netIncomeToCommon': -214600000,\n",
       " 'trailingEps': -3.312,\n",
       " 'lastDividendValue': 0.38,\n",
       " 'SandP52WeekChange': 0.48254788,\n",
       " 'priceToBook': 24.576853,\n",
       " 'heldPercentInsiders': 0.20171,\n",
       " 'nextFiscalYearEnd': 1675036800,\n",
       " 'mostRecentQuarter': 1611964800,\n",
       " 'shortRatio': 0.36,\n",
       " 'sharesShortPreviousMonthDate': 1614297600,\n",
       " 'floatShares': 46069527,\n",
       " 'enterpriseValue': 11356673024,\n",
       " 'threeYearAverageReturn': None,\n",
       " 'lastSplitDate': 1174262400,\n",
       " 'lastSplitFactor': '2:1',\n",
       " 'legalType': None,\n",
       " 'lastDividendDate': 1552521600,\n",
       " 'morningStarOverallRating': None,\n",
       " 'earningsQuarterlyGrowth': 2.833,\n",
       " 'dateShortInterest': 1617148800,\n",
       " 'pegRatio': 4.28,\n",
       " 'lastCapGain': None,\n",
       " 'shortPercentOfFloat': 0.3893,\n",
       " 'sharesShortPriorMonth': 14200138,\n",
       " 'impliedSharesOutstanding': None,\n",
       " 'category': None,\n",
       " 'fiveYearAverageReturn': None,\n",
       " 'regularMarketPrice': 164.37,\n",
       " 'logo_url': 'https://logo.clearbit.com/gamestop.com'}"
      ]
     },
     "metadata": {},
     "execution_count": 18
    }
   ],
   "source": [
    "gme.info"
   ]
  },
  {
   "cell_type": "code",
   "execution_count": 16,
   "metadata": {},
   "outputs": [
    {
     "output_type": "stream",
     "name": "stdout",
     "text": [
      "[*********************100%***********************]  1 of 1 completed\n"
     ]
    }
   ],
   "source": [
    "data = yf.download(tickers=\"GME\", period=\"max\", interval=\"1d\", group_by=\"ticker\")"
   ]
  },
  {
   "cell_type": "code",
   "execution_count": 8,
   "metadata": {},
   "outputs": [
    {
     "output_type": "execute_result",
     "data": {
      "text/plain": [
       "                  Open        High         Low       Close   Adj Close  \\\n",
       "Date                                                                     \n",
       "2002-02-13    9.625000   10.060000    9.525000   10.050000    6.766666   \n",
       "2002-02-14   10.175000   10.195000    9.925000   10.000000    6.733003   \n",
       "2002-02-15   10.000000   10.025000    9.850000    9.950000    6.699336   \n",
       "2002-02-19    9.900000    9.900000    9.375000    9.550000    6.430017   \n",
       "2002-02-20    9.600000    9.875000    9.525000    9.875000    6.648838   \n",
       "...                ...         ...         ...         ...         ...   \n",
       "2021-04-13  141.880005  145.380005  132.000000  140.990005  140.990005   \n",
       "2021-04-14  143.570007  174.089996  143.000000  166.529999  166.529999   \n",
       "2021-04-15  163.000000  166.250000  152.800003  156.440002  156.440002   \n",
       "2021-04-16  156.000000  160.199997  151.250000  154.690002  154.690002   \n",
       "2021-04-19  171.800003  175.199997  162.330002  164.369995  164.369995   \n",
       "\n",
       "              Volume  \n",
       "Date                  \n",
       "2002-02-13  19054000  \n",
       "2002-02-14   2755400  \n",
       "2002-02-15   2097400  \n",
       "2002-02-19   1852600  \n",
       "2002-02-20   1723200  \n",
       "...              ...  \n",
       "2021-04-13   6806900  \n",
       "2021-04-14  21138100  \n",
       "2021-04-15   7856800  \n",
       "2021-04-16   5139700  \n",
       "2021-04-19  10428900  \n",
       "\n",
       "[4828 rows x 6 columns]"
      ],
      "text/html": "<div>\n<style scoped>\n    .dataframe tbody tr th:only-of-type {\n        vertical-align: middle;\n    }\n\n    .dataframe tbody tr th {\n        vertical-align: top;\n    }\n\n    .dataframe thead th {\n        text-align: right;\n    }\n</style>\n<table border=\"1\" class=\"dataframe\">\n  <thead>\n    <tr style=\"text-align: right;\">\n      <th></th>\n      <th>Open</th>\n      <th>High</th>\n      <th>Low</th>\n      <th>Close</th>\n      <th>Adj Close</th>\n      <th>Volume</th>\n    </tr>\n    <tr>\n      <th>Date</th>\n      <th></th>\n      <th></th>\n      <th></th>\n      <th></th>\n      <th></th>\n      <th></th>\n    </tr>\n  </thead>\n  <tbody>\n    <tr>\n      <th>2002-02-13</th>\n      <td>9.625000</td>\n      <td>10.060000</td>\n      <td>9.525000</td>\n      <td>10.050000</td>\n      <td>6.766666</td>\n      <td>19054000</td>\n    </tr>\n    <tr>\n      <th>2002-02-14</th>\n      <td>10.175000</td>\n      <td>10.195000</td>\n      <td>9.925000</td>\n      <td>10.000000</td>\n      <td>6.733003</td>\n      <td>2755400</td>\n    </tr>\n    <tr>\n      <th>2002-02-15</th>\n      <td>10.000000</td>\n      <td>10.025000</td>\n      <td>9.850000</td>\n      <td>9.950000</td>\n      <td>6.699336</td>\n      <td>2097400</td>\n    </tr>\n    <tr>\n      <th>2002-02-19</th>\n      <td>9.900000</td>\n      <td>9.900000</td>\n      <td>9.375000</td>\n      <td>9.550000</td>\n      <td>6.430017</td>\n      <td>1852600</td>\n    </tr>\n    <tr>\n      <th>2002-02-20</th>\n      <td>9.600000</td>\n      <td>9.875000</td>\n      <td>9.525000</td>\n      <td>9.875000</td>\n      <td>6.648838</td>\n      <td>1723200</td>\n    </tr>\n    <tr>\n      <th>...</th>\n      <td>...</td>\n      <td>...</td>\n      <td>...</td>\n      <td>...</td>\n      <td>...</td>\n      <td>...</td>\n    </tr>\n    <tr>\n      <th>2021-04-13</th>\n      <td>141.880005</td>\n      <td>145.380005</td>\n      <td>132.000000</td>\n      <td>140.990005</td>\n      <td>140.990005</td>\n      <td>6806900</td>\n    </tr>\n    <tr>\n      <th>2021-04-14</th>\n      <td>143.570007</td>\n      <td>174.089996</td>\n      <td>143.000000</td>\n      <td>166.529999</td>\n      <td>166.529999</td>\n      <td>21138100</td>\n    </tr>\n    <tr>\n      <th>2021-04-15</th>\n      <td>163.000000</td>\n      <td>166.250000</td>\n      <td>152.800003</td>\n      <td>156.440002</td>\n      <td>156.440002</td>\n      <td>7856800</td>\n    </tr>\n    <tr>\n      <th>2021-04-16</th>\n      <td>156.000000</td>\n      <td>160.199997</td>\n      <td>151.250000</td>\n      <td>154.690002</td>\n      <td>154.690002</td>\n      <td>5139700</td>\n    </tr>\n    <tr>\n      <th>2021-04-19</th>\n      <td>171.800003</td>\n      <td>175.199997</td>\n      <td>162.330002</td>\n      <td>164.369995</td>\n      <td>164.369995</td>\n      <td>10428900</td>\n    </tr>\n  </tbody>\n</table>\n<p>4828 rows × 6 columns</p>\n</div>"
     },
     "metadata": {},
     "execution_count": 8
    }
   ],
   "source": [
    "data"
   ]
  },
  {
   "cell_type": "code",
   "execution_count": null,
   "metadata": {},
   "outputs": [],
   "source": []
  }
 ]
}