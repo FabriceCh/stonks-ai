{
 "metadata": {
  "language_info": {
   "codemirror_mode": {
    "name": "ipython",
    "version": 3
   },
   "file_extension": ".py",
   "mimetype": "text/x-python",
   "name": "python",
   "nbconvert_exporter": "python",
   "pygments_lexer": "ipython3",
   "version": "3.8.5"
  },
  "orig_nbformat": 2,
  "kernelspec": {
   "name": "python385jvsc74a57bd00da335c34a6a6c6ce21eb4147172bec662356bbd00e66ff75f4af67e469e2ade",
   "display_name": "Python 3.8.5 64-bit (conda)"
  }
 },
 "nbformat": 4,
 "nbformat_minor": 2,
 "cells": [
  {
   "source": [
    "## Source:\n",
    "### https://www.thepythoncode.com/article/stock-price-prediction-in-python-using-tensorflow-2-and-keras"
   ],
   "cell_type": "markdown",
   "metadata": {}
  },
  {
   "cell_type": "code",
   "execution_count": 2,
   "metadata": {},
   "outputs": [
    {
     "output_type": "stream",
     "name": "stdout",
     "text": [
      "Collecting yahoo_fin\n",
      "  Downloading yahoo_fin-0.8.8-py3-none-any.whl (10 kB)\n",
      "Collecting feedparser\n",
      "  Downloading feedparser-6.0.2-py3-none-any.whl (80 kB)\n",
      "Requirement already satisfied: requests in d:\\users\\antoine\\anaconda3\\lib\\site-packages (from yahoo_fin) (2.24.0)\n",
      "Requirement already satisfied: pandas in d:\\users\\antoine\\anaconda3\\lib\\site-packages (from yahoo_fin) (1.1.3)\n",
      "Collecting requests-html\n",
      "  Downloading requests_html-0.10.0-py3-none-any.whl (13 kB)\n",
      "Collecting sgmllib3k\n",
      "  Downloading sgmllib3k-1.0.0.tar.gz (5.8 kB)\n",
      "Requirement already satisfied: numpy>=1.15.4 in d:\\users\\antoine\\anaconda3\\lib\\site-packages (from pandas->yahoo_fin) (1.19.2)\n",
      "Requirement already satisfied: pytz>=2017.2 in d:\\users\\antoine\\anaconda3\\lib\\site-packages (from pandas->yahoo_fin) (2020.1)\n",
      "Requirement already satisfied: python-dateutil>=2.7.3 in d:\\users\\antoine\\anaconda3\\lib\\site-packages (from pandas->yahoo_fin) (2.8.1)\n",
      "Requirement already satisfied: six>=1.5 in d:\\users\\antoine\\anaconda3\\lib\\site-packages (from python-dateutil>=2.7.3->pandas->yahoo_fin) (1.15.0)\n",
      "Requirement already satisfied: idna<3,>=2.5 in d:\\users\\antoine\\anaconda3\\lib\\site-packages (from requests->yahoo_fin) (2.10)\n",
      "Requirement already satisfied: chardet<4,>=3.0.2 in d:\\users\\antoine\\anaconda3\\lib\\site-packages (from requests->yahoo_fin) (3.0.4)\n",
      "Requirement already satisfied: urllib3!=1.25.0,!=1.25.1,<1.26,>=1.21.1 in d:\\users\\antoine\\anaconda3\\lib\\site-packages (from requests->yahoo_fin) (1.25.11)\n",
      "Requirement already satisfied: certifi>=2017.4.17 in d:\\users\\antoine\\anaconda3\\lib\\site-packages (from requests->yahoo_fin) (2020.6.20)\n",
      "Collecting fake-useragent\n",
      "  Downloading fake-useragent-0.1.11.tar.gz (13 kB)\n",
      "Collecting bs4\n",
      "  Downloading bs4-0.0.1.tar.gz (1.1 kB)\n",
      "Collecting parse\n",
      "  Downloading parse-1.19.0.tar.gz (30 kB)\n",
      "Collecting pyppeteer>=0.0.14\n",
      "  Downloading pyppeteer-0.2.5-py3-none-any.whl (87 kB)\n",
      "Collecting pyquery\n",
      "  Downloading pyquery-1.4.3-py3-none-any.whl (22 kB)\n",
      "Collecting w3lib\n",
      "  Downloading w3lib-1.22.0-py2.py3-none-any.whl (20 kB)\n",
      "Collecting websockets<9.0,>=8.1\n",
      "  Downloading websockets-8.1-cp38-cp38-win_amd64.whl (66 kB)\n",
      "Collecting pyee<9.0.0,>=8.1.0\n",
      "  Downloading pyee-8.1.0-py2.py3-none-any.whl (12 kB)\n",
      "Collecting appdirs<2.0.0,>=1.4.3\n",
      "  Downloading appdirs-1.4.4-py2.py3-none-any.whl (9.6 kB)\n",
      "Requirement already satisfied: tqdm<5.0.0,>=4.42.1 in d:\\users\\antoine\\anaconda3\\lib\\site-packages (from pyppeteer>=0.0.14->requests-html->yahoo_fin) (4.50.2)\n",
      "Requirement already satisfied: beautifulsoup4 in d:\\users\\antoine\\anaconda3\\lib\\site-packages (from bs4->requests-html->yahoo_fin) (4.9.3)\n",
      "Requirement already satisfied: soupsieve>1.2 in d:\\users\\antoine\\anaconda3\\lib\\site-packages (from beautifulsoup4->bs4->requests-html->yahoo_fin) (2.0.1)\n",
      "Collecting cssselect>0.7.9\n",
      "  Downloading cssselect-1.1.0-py2.py3-none-any.whl (16 kB)\n",
      "Requirement already satisfied: lxml>=2.1 in d:\\users\\antoine\\anaconda3\\lib\\site-packages (from pyquery->requests-html->yahoo_fin) (4.6.1)\n",
      "Building wheels for collected packages: bs4, fake-useragent, parse, sgmllib3k\n",
      "  Building wheel for bs4 (setup.py): started\n",
      "  Building wheel for bs4 (setup.py): finished with status 'done'\n",
      "  Created wheel for bs4: filename=bs4-0.0.1-py3-none-any.whl size=1277 sha256=82972c6cc4936fda5916c84c25f8c6bdf30a903818f1127cb60080b32dfaa9dc\n",
      "  Stored in directory: c:\\users\\antoine\\appdata\\local\\pip\\cache\\wheels\\75\\78\\21\\68b124549c9bdc94f822c02fb9aa3578a669843f9767776bca\n",
      "  Building wheel for fake-useragent (setup.py): started\n",
      "  Building wheel for fake-useragent (setup.py): finished with status 'done'\n",
      "  Created wheel for fake-useragent: filename=fake_useragent-0.1.11-py3-none-any.whl size=13489 sha256=831b3f26b243ec53b869445cf0fe674ff5450b101ef85b093bf6168d8ee093f9\n",
      "  Stored in directory: c:\\users\\antoine\\appdata\\local\\pip\\cache\\wheels\\a0\\b8\\b7\\8c942b2c5be5158b874a88195116b05ad124bac795f6665e65\n",
      "  Building wheel for parse (setup.py): started\n",
      "  Building wheel for parse (setup.py): finished with status 'done'\n",
      "  Created wheel for parse: filename=parse-1.19.0-py3-none-any.whl size=24584 sha256=7b7831ab90c0f397e7b2fec3f15d788030b31ce31a88968d4b104d666a5ea62a\n",
      "  Stored in directory: c:\\users\\antoine\\appdata\\local\\pip\\cache\\wheels\\e5\\33\\1f\\68392720485b3ecf125a69e700baaab7624616deedea2fa6e2\n",
      "  Building wheel for sgmllib3k (setup.py): started\n",
      "  Building wheel for sgmllib3k (setup.py): finished with status 'done'\n",
      "  Created wheel for sgmllib3k: filename=sgmllib3k-1.0.0-py3-none-any.whl size=6070 sha256=78287888b146fb7a9a4525b8f88e542f755178f2acc48b9f19ae1ea506f133d5\n",
      "  Stored in directory: c:\\users\\antoine\\appdata\\local\\pip\\cache\\wheels\\83\\63\\2f\\117884c3b19d46b64d3d61690333aa80c88dc14050e269c546\n",
      "Successfully built bs4 fake-useragent parse sgmllib3k\n",
      "Installing collected packages: websockets, pyee, cssselect, appdirs, w3lib, sgmllib3k, pyquery, pyppeteer, parse, fake-useragent, bs4, requests-html, feedparser, yahoo-fin\n",
      "Successfully installed appdirs-1.4.4 bs4-0.0.1 cssselect-1.1.0 fake-useragent-0.1.11 feedparser-6.0.2 parse-1.19.0 pyee-8.1.0 pyppeteer-0.2.5 pyquery-1.4.3 requests-html-0.10.0 sgmllib3k-1.0.0 w3lib-1.22.0 websockets-8.1 yahoo-fin-0.8.8\n",
      "Note: you may need to restart the kernel to use updated packages.\n",
      "  WARNING: The script pyppeteer-install.exe is installed in 'D:\\Users\\Antoine\\anaconda3\\Scripts' which is not on PATH.\n",
      "  Consider adding this directory to PATH or, if you prefer to suppress this warning, use --no-warn-script-location.\n"
     ]
    }
   ],
   "source": [
    "pip install yahoo_fin"
   ]
  },
  {
   "cell_type": "code",
   "execution_count": 16,
   "metadata": {},
   "outputs": [],
   "source": [
    "import tensorflow as tf\n",
    "from tensorflow.keras.models import Sequential\n",
    "from tensorflow.keras.layers import LSTM, Dense, Dropout, Bidirectional\n",
    "from tensorflow.keras.callbacks import ModelCheckpoint, TensorBoard\n",
    "from sklearn import preprocessing\n",
    "from sklearn.model_selection import train_test_split\n",
    "from yahoo_fin import stock_info as si\n",
    "from collections import deque\n",
    "\n",
    "import os\n",
    "import numpy as np\n",
    "import pandas as pd\n",
    "import random\n",
    "import time"
   ]
  },
  {
   "cell_type": "code",
   "execution_count": 4,
   "metadata": {},
   "outputs": [],
   "source": [
    "# set seed, so we can get the same results after rerunning several times\n",
    "np.random.seed(420)\n",
    "tf.random.set_seed(420)\n",
    "random.seed(420)"
   ]
  },
  {
   "source": [
    "# Preparing the dataset"
   ],
   "cell_type": "markdown",
   "metadata": {}
  },
  {
   "cell_type": "code",
   "execution_count": 5,
   "metadata": {},
   "outputs": [],
   "source": [
    "def shuffle_in_unison(a, b):\n",
    "    # shuffle two arrays in the same way\n",
    "    state = np.random.get_state()\n",
    "    np.random.shuffle(a)\n",
    "    np.random.set_state(state)\n",
    "    np.random.shuffle(b)"
   ]
  },
  {
   "cell_type": "code",
   "execution_count": 6,
   "metadata": {},
   "outputs": [],
   "source": [
    "def load_data(ticker, n_steps=50, scale=True, shuffle=True, lookup_step=1, split_by_date=True,\n",
    "                test_size=0.2, feature_columns=['adjclose', 'volume', 'open', 'high', 'low']):\n",
    "    \"\"\"\n",
    "    Loads data from Yahoo Finance source, as well as scaling, shuffling, normalizing and splitting.\n",
    "    Params:\n",
    "        ticker (str/pd.DataFrame): the ticker you want to load, examples include AAPL, TSLA, etc.\n",
    "        n_steps (int): the historical sequence length (i.e window size) used to predict, default is 50\n",
    "        scale (bool): whether to scale prices from 0 to 1, default is True\n",
    "        shuffle (bool): whether to shuffle the dataset (both training & testing), default is True\n",
    "        lookup_step (int): the future lookup step to predict, default is 1 (e.g next day)\n",
    "        split_by_date (bool): whether we split the dataset into training/testing by date, setting it \n",
    "            to False will split datasets in a random way\n",
    "        test_size (float): ratio for test data, default is 0.2 (20% testing data)\n",
    "        feature_columns (list): the list of features to use to feed into the model, default is everything grabbed from yahoo_fin\n",
    "    \"\"\"\n",
    "    # see if ticker is already a loaded stock from yahoo finance\n",
    "    if isinstance(ticker, str):\n",
    "        # load it from yahoo_fin library\n",
    "        df = si.get_data(ticker)\n",
    "    elif isinstance(ticker, pd.DataFrame):\n",
    "        # already loaded, use it directly\n",
    "        df = ticker\n",
    "    else:\n",
    "        raise TypeError(\"ticker can be either a str or a `pd.DataFrame` instances\")\n",
    "    # this will contain all the elements we want to return from this function\n",
    "    result = {}\n",
    "    # we will also return the original dataframe itself\n",
    "    result['df'] = df.copy()\n",
    "    # make sure that the passed feature_columns exist in the dataframe\n",
    "    for col in feature_columns:\n",
    "        assert col in df.columns, f\"'{col}' does not exist in the dataframe.\"\n",
    "    # add date as a column\n",
    "    if \"date\" not in df.columns:\n",
    "        df[\"date\"] = df.index\n",
    "    if scale:\n",
    "        column_scaler = {}\n",
    "        # scale the data (prices) from 0 to 1\n",
    "        for column in feature_columns:\n",
    "            scaler = preprocessing.MinMaxScaler()\n",
    "            df[column] = scaler.fit_transform(np.expand_dims(df[column].values, axis=1))\n",
    "            column_scaler[column] = scaler\n",
    "        # add the MinMaxScaler instances to the result returned\n",
    "        result[\"column_scaler\"] = column_scaler\n",
    "    # add the target column (label) by shifting by `lookup_step`\n",
    "    df['future'] = df['adjclose'].shift(-lookup_step)\n",
    "    # last `lookup_step` columns contains NaN in future column\n",
    "    # get them before droping NaNs\n",
    "    last_sequence = np.array(df[feature_columns].tail(lookup_step))\n",
    "    # drop NaNs\n",
    "    df.dropna(inplace=True)\n",
    "    sequence_data = []\n",
    "    sequences = deque(maxlen=n_steps)\n",
    "    for entry, target in zip(df[feature_columns + [\"date\"]].values, df['future'].values):\n",
    "        sequences.append(entry)\n",
    "        if len(sequences) == n_steps:\n",
    "            sequence_data.append([np.array(sequences), target])\n",
    "    # get the last sequence by appending the last `n_step` sequence with `lookup_step` sequence\n",
    "    # for instance, if n_steps=50 and lookup_step=10, last_sequence should be of 60 (that is 50+10) length\n",
    "    # this last_sequence will be used to predict future stock prices that are not available in the dataset\n",
    "    last_sequence = list([s[:len(feature_columns)] for s in sequences]) + list(last_sequence)\n",
    "    last_sequence = np.array(last_sequence).astype(np.float32)\n",
    "    # add to result\n",
    "    result['last_sequence'] = last_sequence\n",
    "    # construct the X's and y's\n",
    "    X, y = [], []\n",
    "    for seq, target in sequence_data:\n",
    "        X.append(seq)\n",
    "        y.append(target)\n",
    "    # convert to numpy arrays\n",
    "    X = np.array(X)\n",
    "    y = np.array(y)\n",
    "    if split_by_date:\n",
    "        # split the dataset into training & testing sets by date (not randomly splitting)\n",
    "        train_samples = int((1 - test_size) * len(X))\n",
    "        result[\"X_train\"] = X[:train_samples]\n",
    "        result[\"y_train\"] = y[:train_samples]\n",
    "        result[\"X_test\"]  = X[train_samples:]\n",
    "        result[\"y_test\"]  = y[train_samples:]\n",
    "        if shuffle:\n",
    "            # shuffle the datasets for training (if shuffle parameter is set)\n",
    "            shuffle_in_unison(result[\"X_train\"], result[\"y_train\"])\n",
    "            shuffle_in_unison(result[\"X_test\"], result[\"y_test\"])\n",
    "    else:    \n",
    "        # split the dataset randomly\n",
    "        result[\"X_train\"], result[\"X_test\"], result[\"y_train\"], result[\"y_test\"] = train_test_split(X, y, \n",
    "                                                                                test_size=test_size, shuffle=shuffle)\n",
    "    # get the list of test set dates\n",
    "    dates = result[\"X_test\"][:, -1, -1]\n",
    "    # retrieve test features from the original dataframe\n",
    "    result[\"test_df\"] = result[\"df\"].loc[dates]\n",
    "    # remove duplicated dates in the testing dataframe\n",
    "    result[\"test_df\"] = result[\"test_df\"][~result[\"test_df\"].index.duplicated(keep='first')]\n",
    "    # remove dates from the training/testing sets & convert to float32\n",
    "    result[\"X_train\"] = result[\"X_train\"][:, :, :len(feature_columns)].astype(np.float32)\n",
    "    result[\"X_test\"] = result[\"X_test\"][:, :, :len(feature_columns)].astype(np.float32)\n",
    "    return result"
   ]
  },
  {
   "cell_type": "code",
   "execution_count": 7,
   "metadata": {},
   "outputs": [],
   "source": [
    "test = load_data(\"FOOD\", n_steps=365, scale=False, shuffle=False, lookup_step=1, split_by_date=True, test_size=0.2)"
   ]
  },
  {
   "source": [
    "## Create model"
   ],
   "cell_type": "markdown",
   "metadata": {}
  },
  {
   "cell_type": "code",
   "execution_count": 14,
   "metadata": {},
   "outputs": [],
   "source": [
    "def create_model(sequence_length, n_features, units=256, cell=LSTM, n_layers=2, dropout=0.3,\n",
    "                loss=\"mean_absolute_error\", optimizer=\"rmsprop\", bidirectional=False):\n",
    "    model = Sequential()\n",
    "    for i in range(n_layers):\n",
    "        if i == 0:\n",
    "            # first layer\n",
    "            if bidirectional:\n",
    "                model.add(Bidirectional(cell(units, return_sequences=True), batch_input_shape=(None, sequence_length, n_features)))\n",
    "            else:\n",
    "                model.add(cell(units, return_sequences=True, batch_input_shape=(None, sequence_length, n_features)))\n",
    "        elif i == n_layers - 1:\n",
    "            # last layer\n",
    "            if bidirectional:\n",
    "                model.add(Bidirectional(cell(units, return_sequences=False)))\n",
    "            else:\n",
    "                model.add(cell(units, return_sequences=False))\n",
    "        else:\n",
    "            # hidden layers\n",
    "            if bidirectional:\n",
    "                model.add(Bidirectional(cell(units, return_sequences=True)))\n",
    "            else:\n",
    "                model.add(cell(units, return_sequences=True))\n",
    "        # add dropout after each layer\n",
    "        model.add(Dropout(dropout))\n",
    "    model.add(Dense(1, activation=\"linear\"))\n",
    "    model.compile(loss=loss, metrics=[\"mean_absolute_error\"], optimizer=optimizer)\n",
    "    return model"
   ]
  },
  {
   "source": [
    "## Setting parameters"
   ],
   "cell_type": "markdown",
   "metadata": {}
  },
  {
   "cell_type": "code",
   "execution_count": 40,
   "metadata": {},
   "outputs": [],
   "source": [
    "# Window size or the sequence length\n",
    "N_STEPS = 75\n",
    "# Lookup step, 1 is the next day\n",
    "LOOKUP_STEP = 1\n",
    "# whether to scale feature columns & output price as well\n",
    "SCALE = True\n",
    "scale_str = f\"sc-{int(SCALE)}\"\n",
    "# whether to shuffle the dataset\n",
    "SHUFFLE = True\n",
    "shuffle_str = f\"sh-{int(SHUFFLE)}\"\n",
    "# whether to split the training/testing set by date\n",
    "SPLIT_BY_DATE = True\n",
    "split_by_date_str = f\"sbd-{int(SPLIT_BY_DATE)}\"\n",
    "# test ratio size, 0.2 is 20%\n",
    "TEST_SIZE = 0.2\n",
    "# features to use\n",
    "FEATURE_COLUMNS = [\"adjclose\", \"volume\", \"open\", \"high\", \"low\"]\n",
    "# date now\n",
    "date_now = time.strftime(\"%Y-%m-%d\")\n",
    "### model parameters\n",
    "N_LAYERS = 2\n",
    "# LSTM cell\n",
    "CELL = LSTM\n",
    "# 256 LSTM neurons\n",
    "UNITS = 256\n",
    "# 40% dropout\n",
    "DROPOUT = 0.4\n",
    "# whether to use bidirectional RNNs\n",
    "BIDIRECTIONAL = False\n",
    "### training parameters\n",
    "# mean absolute error loss\n",
    "# LOSS = \"mae\"\n",
    "# huber loss\n",
    "LOSS = \"huber_loss\"\n",
    "OPTIMIZER = \"adam\"\n",
    "BATCH_SIZE = 64\n",
    "EPOCHS = 100\n",
    "# Ticker name\n",
    "ticker = \"AMZN\"\n",
    "ticker_data_filename = os.path.join(\"data\", f\"{ticker}_{date_now}.csv\")\n",
    "# model name to save, making it as unique as possible based on parameters\n",
    "model_name = f\"{date_now}_{ticker}-{shuffle_str}-{scale_str}-{split_by_date_str}-\\\n",
    "{LOSS}-{OPTIMIZER}-{CELL.__name__}-seq-{N_STEPS}-step-{LOOKUP_STEP}-layers-{N_LAYERS}-units-{UNITS}\"\n",
    "if BIDIRECTIONAL:\n",
    "    model_name += \"-b\""
   ]
  },
  {
   "cell_type": "code",
   "execution_count": 41,
   "metadata": {},
   "outputs": [],
   "source": [
    "if not os.path.isdir(\"results\"):\n",
    "    os.mkdir(\"results\")\n",
    "if not os.path.isdir(\"logs\"):\n",
    "    os.mkdir(\"logs\")\n",
    "if not os.path.isdir(\"data\"):\n",
    "    os.mkdir(\"data\")"
   ]
  },
  {
   "cell_type": "code",
   "execution_count": 42,
   "metadata": {
    "tags": []
   },
   "outputs": [
    {
     "output_type": "stream",
     "name": "stdout",
     "text": [
      "Epoch 1/100\n",
      "75/75 [==============================] - 43s 515ms/step - loss: 1.9014e-04 - mean_absolute_error: 0.0117 - val_loss: 7.3496e-04 - val_mean_absolute_error: 0.0312\n",
      "\n",
      "Epoch 00001: val_loss improved from inf to 0.00073, saving model to results\\2021-04-20_AMZN-sh-1-sc-1-sbd-1-huber_loss-adam-LSTM-seq-75-step-1-layers-2-units-256.h5\n",
      "Epoch 2/100\n",
      "75/75 [==============================] - 34s 450ms/step - loss: 2.0294e-05 - mean_absolute_error: 0.0042 - val_loss: 1.8275e-04 - val_mean_absolute_error: 0.0128\n",
      "\n",
      "Epoch 00002: val_loss improved from 0.00073 to 0.00018, saving model to results\\2021-04-20_AMZN-sh-1-sc-1-sbd-1-huber_loss-adam-LSTM-seq-75-step-1-layers-2-units-256.h5\n",
      "Epoch 3/100\n",
      "75/75 [==============================] - 33s 442ms/step - loss: 1.6377e-05 - mean_absolute_error: 0.0038 - val_loss: 2.7102e-04 - val_mean_absolute_error: 0.0174\n",
      "\n",
      "Epoch 00003: val_loss did not improve from 0.00018\n",
      "Epoch 4/100\n",
      "75/75 [==============================] - 33s 438ms/step - loss: 1.7108e-05 - mean_absolute_error: 0.0039 - val_loss: 2.3628e-04 - val_mean_absolute_error: 0.0152\n",
      "\n",
      "Epoch 00004: val_loss did not improve from 0.00018\n",
      "Epoch 5/100\n",
      "75/75 [==============================] - 35s 461ms/step - loss: 1.3085e-05 - mean_absolute_error: 0.0033 - val_loss: 6.1827e-04 - val_mean_absolute_error: 0.0279\n",
      "\n",
      "Epoch 00005: val_loss did not improve from 0.00018\n",
      "Epoch 6/100\n",
      "75/75 [==============================] - 35s 464ms/step - loss: 1.4834e-05 - mean_absolute_error: 0.0035 - val_loss: 1.5956e-04 - val_mean_absolute_error: 0.0119\n",
      "\n",
      "Epoch 00006: val_loss improved from 0.00018 to 0.00016, saving model to results\\2021-04-20_AMZN-sh-1-sc-1-sbd-1-huber_loss-adam-LSTM-seq-75-step-1-layers-2-units-256.h5\n",
      "Epoch 7/100\n",
      "75/75 [==============================] - 33s 437ms/step - loss: 1.3682e-05 - mean_absolute_error: 0.0033 - val_loss: 3.1536e-04 - val_mean_absolute_error: 0.0190\n",
      "\n",
      "Epoch 00007: val_loss did not improve from 0.00016\n",
      "Epoch 8/100\n",
      "75/75 [==============================] - 33s 438ms/step - loss: 1.2310e-05 - mean_absolute_error: 0.0032 - val_loss: 1.5881e-04 - val_mean_absolute_error: 0.0122\n",
      "\n",
      "Epoch 00008: val_loss improved from 0.00016 to 0.00016, saving model to results\\2021-04-20_AMZN-sh-1-sc-1-sbd-1-huber_loss-adam-LSTM-seq-75-step-1-layers-2-units-256.h5\n",
      "Epoch 9/100\n",
      "75/75 [==============================] - 33s 437ms/step - loss: 1.0667e-05 - mean_absolute_error: 0.0030 - val_loss: 5.0649e-04 - val_mean_absolute_error: 0.0255\n",
      "\n",
      "Epoch 00009: val_loss did not improve from 0.00016\n",
      "Epoch 10/100\n",
      "75/75 [==============================] - 35s 466ms/step - loss: 1.4403e-05 - mean_absolute_error: 0.0036 - val_loss: 2.5683e-04 - val_mean_absolute_error: 0.0169\n",
      "\n",
      "Epoch 00010: val_loss did not improve from 0.00016\n",
      "Epoch 11/100\n",
      "75/75 [==============================] - 33s 446ms/step - loss: 1.2671e-05 - mean_absolute_error: 0.0033 - val_loss: 2.5785e-04 - val_mean_absolute_error: 0.0172\n",
      "\n",
      "Epoch 00011: val_loss did not improve from 0.00016\n",
      "Epoch 12/100\n",
      "75/75 [==============================] - 33s 437ms/step - loss: 1.1887e-05 - mean_absolute_error: 0.0033 - val_loss: 7.2420e-04 - val_mean_absolute_error: 0.0312\n",
      "\n",
      "Epoch 00012: val_loss did not improve from 0.00016\n",
      "Epoch 13/100\n",
      "75/75 [==============================] - 34s 454ms/step - loss: 9.4072e-06 - mean_absolute_error: 0.0028 - val_loss: 1.7159e-04 - val_mean_absolute_error: 0.0129\n",
      "\n",
      "Epoch 00013: val_loss did not improve from 0.00016\n",
      "Epoch 14/100\n",
      "75/75 [==============================] - 34s 455ms/step - loss: 1.1903e-05 - mean_absolute_error: 0.0031 - val_loss: 1.4235e-04 - val_mean_absolute_error: 0.0111\n",
      "\n",
      "Epoch 00014: val_loss improved from 0.00016 to 0.00014, saving model to results\\2021-04-20_AMZN-sh-1-sc-1-sbd-1-huber_loss-adam-LSTM-seq-75-step-1-layers-2-units-256.h5\n",
      "Epoch 15/100\n",
      "75/75 [==============================] - 34s 457ms/step - loss: 9.8883e-06 - mean_absolute_error: 0.0030 - val_loss: 1.6160e-04 - val_mean_absolute_error: 0.0126\n",
      "\n",
      "Epoch 00015: val_loss did not improve from 0.00014\n",
      "Epoch 16/100\n",
      "35/75 [=============>................] - ETA: 17s - loss: 1.0601e-05 - mean_absolute_error: 0.0031"
     ]
    },
    {
     "output_type": "error",
     "ename": "KeyboardInterrupt",
     "evalue": "",
     "traceback": [
      "\u001b[1;31m---------------------------------------------------------------------------\u001b[0m",
      "\u001b[1;31mKeyboardInterrupt\u001b[0m                         Traceback (most recent call last)",
      "\u001b[1;32m<ipython-input-42-0772416524a4>\u001b[0m in \u001b[0;36m<module>\u001b[1;34m\u001b[0m\n\u001b[0;32m     12\u001b[0m \u001b[1;31m# train the model and save the weights whenever we see\u001b[0m\u001b[1;33m\u001b[0m\u001b[1;33m\u001b[0m\u001b[1;33m\u001b[0m\u001b[0m\n\u001b[0;32m     13\u001b[0m \u001b[1;31m# a new optimal model using ModelCheckpoint\u001b[0m\u001b[1;33m\u001b[0m\u001b[1;33m\u001b[0m\u001b[1;33m\u001b[0m\u001b[0m\n\u001b[1;32m---> 14\u001b[1;33m history = model.fit(data[\"X_train\"], data[\"y_train\"],\n\u001b[0m\u001b[0;32m     15\u001b[0m                     \u001b[0mbatch_size\u001b[0m\u001b[1;33m=\u001b[0m\u001b[0mBATCH_SIZE\u001b[0m\u001b[1;33m,\u001b[0m\u001b[1;33m\u001b[0m\u001b[1;33m\u001b[0m\u001b[0m\n\u001b[0;32m     16\u001b[0m                     \u001b[0mepochs\u001b[0m\u001b[1;33m=\u001b[0m\u001b[0mEPOCHS\u001b[0m\u001b[1;33m,\u001b[0m\u001b[1;33m\u001b[0m\u001b[1;33m\u001b[0m\u001b[0m\n",
      "\u001b[1;32mD:\\Users\\Antoine\\anaconda3\\lib\\site-packages\\tensorflow\\python\\keras\\engine\\training.py\u001b[0m in \u001b[0;36mfit\u001b[1;34m(self, x, y, batch_size, epochs, verbose, callbacks, validation_split, validation_data, shuffle, class_weight, sample_weight, initial_epoch, steps_per_epoch, validation_steps, validation_batch_size, validation_freq, max_queue_size, workers, use_multiprocessing)\u001b[0m\n\u001b[0;32m   1098\u001b[0m                 _r=1):\n\u001b[0;32m   1099\u001b[0m               \u001b[0mcallbacks\u001b[0m\u001b[1;33m.\u001b[0m\u001b[0mon_train_batch_begin\u001b[0m\u001b[1;33m(\u001b[0m\u001b[0mstep\u001b[0m\u001b[1;33m)\u001b[0m\u001b[1;33m\u001b[0m\u001b[1;33m\u001b[0m\u001b[0m\n\u001b[1;32m-> 1100\u001b[1;33m               \u001b[0mtmp_logs\u001b[0m \u001b[1;33m=\u001b[0m \u001b[0mself\u001b[0m\u001b[1;33m.\u001b[0m\u001b[0mtrain_function\u001b[0m\u001b[1;33m(\u001b[0m\u001b[0miterator\u001b[0m\u001b[1;33m)\u001b[0m\u001b[1;33m\u001b[0m\u001b[1;33m\u001b[0m\u001b[0m\n\u001b[0m\u001b[0;32m   1101\u001b[0m               \u001b[1;32mif\u001b[0m \u001b[0mdata_handler\u001b[0m\u001b[1;33m.\u001b[0m\u001b[0mshould_sync\u001b[0m\u001b[1;33m:\u001b[0m\u001b[1;33m\u001b[0m\u001b[1;33m\u001b[0m\u001b[0m\n\u001b[0;32m   1102\u001b[0m                 \u001b[0mcontext\u001b[0m\u001b[1;33m.\u001b[0m\u001b[0masync_wait\u001b[0m\u001b[1;33m(\u001b[0m\u001b[1;33m)\u001b[0m\u001b[1;33m\u001b[0m\u001b[1;33m\u001b[0m\u001b[0m\n",
      "\u001b[1;32mD:\\Users\\Antoine\\anaconda3\\lib\\site-packages\\tensorflow\\python\\eager\\def_function.py\u001b[0m in \u001b[0;36m__call__\u001b[1;34m(self, *args, **kwds)\u001b[0m\n\u001b[0;32m    826\u001b[0m     \u001b[0mtracing_count\u001b[0m \u001b[1;33m=\u001b[0m \u001b[0mself\u001b[0m\u001b[1;33m.\u001b[0m\u001b[0mexperimental_get_tracing_count\u001b[0m\u001b[1;33m(\u001b[0m\u001b[1;33m)\u001b[0m\u001b[1;33m\u001b[0m\u001b[1;33m\u001b[0m\u001b[0m\n\u001b[0;32m    827\u001b[0m     \u001b[1;32mwith\u001b[0m \u001b[0mtrace\u001b[0m\u001b[1;33m.\u001b[0m\u001b[0mTrace\u001b[0m\u001b[1;33m(\u001b[0m\u001b[0mself\u001b[0m\u001b[1;33m.\u001b[0m\u001b[0m_name\u001b[0m\u001b[1;33m)\u001b[0m \u001b[1;32mas\u001b[0m \u001b[0mtm\u001b[0m\u001b[1;33m:\u001b[0m\u001b[1;33m\u001b[0m\u001b[1;33m\u001b[0m\u001b[0m\n\u001b[1;32m--> 828\u001b[1;33m       \u001b[0mresult\u001b[0m \u001b[1;33m=\u001b[0m \u001b[0mself\u001b[0m\u001b[1;33m.\u001b[0m\u001b[0m_call\u001b[0m\u001b[1;33m(\u001b[0m\u001b[1;33m*\u001b[0m\u001b[0margs\u001b[0m\u001b[1;33m,\u001b[0m \u001b[1;33m**\u001b[0m\u001b[0mkwds\u001b[0m\u001b[1;33m)\u001b[0m\u001b[1;33m\u001b[0m\u001b[1;33m\u001b[0m\u001b[0m\n\u001b[0m\u001b[0;32m    829\u001b[0m       \u001b[0mcompiler\u001b[0m \u001b[1;33m=\u001b[0m \u001b[1;34m\"xla\"\u001b[0m \u001b[1;32mif\u001b[0m \u001b[0mself\u001b[0m\u001b[1;33m.\u001b[0m\u001b[0m_experimental_compile\u001b[0m \u001b[1;32melse\u001b[0m \u001b[1;34m\"nonXla\"\u001b[0m\u001b[1;33m\u001b[0m\u001b[1;33m\u001b[0m\u001b[0m\n\u001b[0;32m    830\u001b[0m       \u001b[0mnew_tracing_count\u001b[0m \u001b[1;33m=\u001b[0m \u001b[0mself\u001b[0m\u001b[1;33m.\u001b[0m\u001b[0mexperimental_get_tracing_count\u001b[0m\u001b[1;33m(\u001b[0m\u001b[1;33m)\u001b[0m\u001b[1;33m\u001b[0m\u001b[1;33m\u001b[0m\u001b[0m\n",
      "\u001b[1;32mD:\\Users\\Antoine\\anaconda3\\lib\\site-packages\\tensorflow\\python\\eager\\def_function.py\u001b[0m in \u001b[0;36m_call\u001b[1;34m(self, *args, **kwds)\u001b[0m\n\u001b[0;32m    853\u001b[0m       \u001b[1;31m# In this case we have created variables on the first call, so we run the\u001b[0m\u001b[1;33m\u001b[0m\u001b[1;33m\u001b[0m\u001b[1;33m\u001b[0m\u001b[0m\n\u001b[0;32m    854\u001b[0m       \u001b[1;31m# defunned version which is guaranteed to never create variables.\u001b[0m\u001b[1;33m\u001b[0m\u001b[1;33m\u001b[0m\u001b[1;33m\u001b[0m\u001b[0m\n\u001b[1;32m--> 855\u001b[1;33m       \u001b[1;32mreturn\u001b[0m \u001b[0mself\u001b[0m\u001b[1;33m.\u001b[0m\u001b[0m_stateless_fn\u001b[0m\u001b[1;33m(\u001b[0m\u001b[1;33m*\u001b[0m\u001b[0margs\u001b[0m\u001b[1;33m,\u001b[0m \u001b[1;33m**\u001b[0m\u001b[0mkwds\u001b[0m\u001b[1;33m)\u001b[0m  \u001b[1;31m# pylint: disable=not-callable\u001b[0m\u001b[1;33m\u001b[0m\u001b[1;33m\u001b[0m\u001b[0m\n\u001b[0m\u001b[0;32m    856\u001b[0m     \u001b[1;32melif\u001b[0m \u001b[0mself\u001b[0m\u001b[1;33m.\u001b[0m\u001b[0m_stateful_fn\u001b[0m \u001b[1;32mis\u001b[0m \u001b[1;32mnot\u001b[0m \u001b[1;32mNone\u001b[0m\u001b[1;33m:\u001b[0m\u001b[1;33m\u001b[0m\u001b[1;33m\u001b[0m\u001b[0m\n\u001b[0;32m    857\u001b[0m       \u001b[1;31m# Release the lock early so that multiple threads can perform the call\u001b[0m\u001b[1;33m\u001b[0m\u001b[1;33m\u001b[0m\u001b[1;33m\u001b[0m\u001b[0m\n",
      "\u001b[1;32mD:\\Users\\Antoine\\anaconda3\\lib\\site-packages\\tensorflow\\python\\eager\\function.py\u001b[0m in \u001b[0;36m__call__\u001b[1;34m(self, *args, **kwargs)\u001b[0m\n\u001b[0;32m   2940\u001b[0m       (graph_function,\n\u001b[0;32m   2941\u001b[0m        filtered_flat_args) = self._maybe_define_function(args, kwargs)\n\u001b[1;32m-> 2942\u001b[1;33m     return graph_function._call_flat(\n\u001b[0m\u001b[0;32m   2943\u001b[0m         filtered_flat_args, captured_inputs=graph_function.captured_inputs)  # pylint: disable=protected-access\n\u001b[0;32m   2944\u001b[0m \u001b[1;33m\u001b[0m\u001b[0m\n",
      "\u001b[1;32mD:\\Users\\Antoine\\anaconda3\\lib\\site-packages\\tensorflow\\python\\eager\\function.py\u001b[0m in \u001b[0;36m_call_flat\u001b[1;34m(self, args, captured_inputs, cancellation_manager)\u001b[0m\n\u001b[0;32m   1916\u001b[0m         and executing_eagerly):\n\u001b[0;32m   1917\u001b[0m       \u001b[1;31m# No tape is watching; skip to running the function.\u001b[0m\u001b[1;33m\u001b[0m\u001b[1;33m\u001b[0m\u001b[1;33m\u001b[0m\u001b[0m\n\u001b[1;32m-> 1918\u001b[1;33m       return self._build_call_outputs(self._inference_function.call(\n\u001b[0m\u001b[0;32m   1919\u001b[0m           ctx, args, cancellation_manager=cancellation_manager))\n\u001b[0;32m   1920\u001b[0m     forward_backward = self._select_forward_and_backward_functions(\n",
      "\u001b[1;32mD:\\Users\\Antoine\\anaconda3\\lib\\site-packages\\tensorflow\\python\\eager\\function.py\u001b[0m in \u001b[0;36mcall\u001b[1;34m(self, ctx, args, cancellation_manager)\u001b[0m\n\u001b[0;32m    553\u001b[0m       \u001b[1;32mwith\u001b[0m \u001b[0m_InterpolateFunctionError\u001b[0m\u001b[1;33m(\u001b[0m\u001b[0mself\u001b[0m\u001b[1;33m)\u001b[0m\u001b[1;33m:\u001b[0m\u001b[1;33m\u001b[0m\u001b[1;33m\u001b[0m\u001b[0m\n\u001b[0;32m    554\u001b[0m         \u001b[1;32mif\u001b[0m \u001b[0mcancellation_manager\u001b[0m \u001b[1;32mis\u001b[0m \u001b[1;32mNone\u001b[0m\u001b[1;33m:\u001b[0m\u001b[1;33m\u001b[0m\u001b[1;33m\u001b[0m\u001b[0m\n\u001b[1;32m--> 555\u001b[1;33m           outputs = execute.execute(\n\u001b[0m\u001b[0;32m    556\u001b[0m               \u001b[0mstr\u001b[0m\u001b[1;33m(\u001b[0m\u001b[0mself\u001b[0m\u001b[1;33m.\u001b[0m\u001b[0msignature\u001b[0m\u001b[1;33m.\u001b[0m\u001b[0mname\u001b[0m\u001b[1;33m)\u001b[0m\u001b[1;33m,\u001b[0m\u001b[1;33m\u001b[0m\u001b[1;33m\u001b[0m\u001b[0m\n\u001b[0;32m    557\u001b[0m               \u001b[0mnum_outputs\u001b[0m\u001b[1;33m=\u001b[0m\u001b[0mself\u001b[0m\u001b[1;33m.\u001b[0m\u001b[0m_num_outputs\u001b[0m\u001b[1;33m,\u001b[0m\u001b[1;33m\u001b[0m\u001b[1;33m\u001b[0m\u001b[0m\n",
      "\u001b[1;32mD:\\Users\\Antoine\\anaconda3\\lib\\site-packages\\tensorflow\\python\\eager\\execute.py\u001b[0m in \u001b[0;36mquick_execute\u001b[1;34m(op_name, num_outputs, inputs, attrs, ctx, name)\u001b[0m\n\u001b[0;32m     57\u001b[0m   \u001b[1;32mtry\u001b[0m\u001b[1;33m:\u001b[0m\u001b[1;33m\u001b[0m\u001b[1;33m\u001b[0m\u001b[0m\n\u001b[0;32m     58\u001b[0m     \u001b[0mctx\u001b[0m\u001b[1;33m.\u001b[0m\u001b[0mensure_initialized\u001b[0m\u001b[1;33m(\u001b[0m\u001b[1;33m)\u001b[0m\u001b[1;33m\u001b[0m\u001b[1;33m\u001b[0m\u001b[0m\n\u001b[1;32m---> 59\u001b[1;33m     tensors = pywrap_tfe.TFE_Py_Execute(ctx._handle, device_name, op_name,\n\u001b[0m\u001b[0;32m     60\u001b[0m                                         inputs, attrs, num_outputs)\n\u001b[0;32m     61\u001b[0m   \u001b[1;32mexcept\u001b[0m \u001b[0mcore\u001b[0m\u001b[1;33m.\u001b[0m\u001b[0m_NotOkStatusException\u001b[0m \u001b[1;32mas\u001b[0m \u001b[0me\u001b[0m\u001b[1;33m:\u001b[0m\u001b[1;33m\u001b[0m\u001b[1;33m\u001b[0m\u001b[0m\n",
      "\u001b[1;31mKeyboardInterrupt\u001b[0m: "
     ]
    }
   ],
   "source": [
    "data = load_data(ticker, N_STEPS, scale=SCALE, split_by_date=SPLIT_BY_DATE, \n",
    "                shuffle=SHUFFLE, lookup_step=LOOKUP_STEP, test_size=TEST_SIZE, \n",
    "                feature_columns=FEATURE_COLUMNS)\n",
    "# save the dataframe\n",
    "data[\"df\"].to_csv(ticker_data_filename)\n",
    "# construct the model\n",
    "model = create_model(N_STEPS, len(FEATURE_COLUMNS), loss=LOSS, units=UNITS, cell=CELL, n_layers=N_LAYERS,\n",
    "                    dropout=DROPOUT, optimizer=OPTIMIZER, bidirectional=BIDIRECTIONAL)\n",
    "# some tensorflow callbacks\n",
    "checkpointer = ModelCheckpoint(os.path.join(\"results\", model_name + \".h5\"), save_weights_only=True, save_best_only=True, verbose=1)\n",
    "tensorboard = TensorBoard(log_dir=os.path.join(\"logs\", model_name))\n",
    "# train the model and save the weights whenever we see \n",
    "# a new optimal model using ModelCheckpoint\n",
    "history = model.fit(data[\"X_train\"], data[\"y_train\"],\n",
    "                    batch_size=BATCH_SIZE,\n",
    "                    epochs=EPOCHS,\n",
    "                    validation_data=(data[\"X_test\"], data[\"y_test\"]),\n",
    "                    callbacks=[checkpointer, tensorboard],\n",
    "                    verbose=1)"
   ]
  },
  {
   "cell_type": "code",
   "execution_count": 54,
   "metadata": {},
   "outputs": [],
   "source": [
    "import matplotlib.pyplot as plt\n",
    "\n",
    "def plot_graph(test_df):\n",
    "    \"\"\"\n",
    "    This function plots true close price along with predicted close price\n",
    "    with blue and red colors respectively\n",
    "    \"\"\"\n",
    "    plt.plot(test_df[f'true_adjclose_{LOOKUP_STEP}'], c='b')\n",
    "    plt.plot(test_df[f'adjclose_{LOOKUP_STEP}'], c='r')\n",
    "    plt.xlabel(\"Days\")\n",
    "    plt.ylabel(\"Price\")\n",
    "    plt.legend([\"Actual Price\", \"Predicted Price\"])\n",
    "    plt.show()"
   ]
  },
  {
   "cell_type": "code",
   "execution_count": 55,
   "metadata": {},
   "outputs": [],
   "source": [
    "def get_final_df(model, data):\n",
    "    \"\"\"\n",
    "    This function takes the `model` and `data` dict to \n",
    "    construct a final dataframe that includes the features along \n",
    "    with true and predicted prices of the testing dataset\n",
    "    \"\"\"\n",
    "    # if predicted future price is higher than the current, \n",
    "    # then calculate the true future price minus the current price, to get the buy profit\n",
    "    buy_profit  = lambda current, true_future, pred_future: true_future - current if pred_future > current else 0\n",
    "    # if the predicted future price is lower than the current price,\n",
    "    # then subtract the true future price from the current price\n",
    "    sell_profit = lambda current, true_future, pred_future: current - true_future if pred_future < current else 0\n",
    "    X_test = data[\"X_test\"]\n",
    "    y_test = data[\"y_test\"]\n",
    "    # perform prediction and get prices\n",
    "    y_pred = model.predict(X_test)\n",
    "    if SCALE:\n",
    "        y_test = np.squeeze(data[\"column_scaler\"][\"adjclose\"].inverse_transform(np.expand_dims(y_test, axis=0)))\n",
    "        y_pred = np.squeeze(data[\"column_scaler\"][\"adjclose\"].inverse_transform(y_pred))\n",
    "    test_df = data[\"test_df\"]\n",
    "    # add predicted future prices to the dataframe\n",
    "    test_df[f\"adjclose_{LOOKUP_STEP}\"] = y_pred\n",
    "    # add true future prices to the dataframe\n",
    "    test_df[f\"true_adjclose_{LOOKUP_STEP}\"] = y_test\n",
    "    # sort the dataframe by date\n",
    "    test_df.sort_index(inplace=True)\n",
    "    final_df = test_df\n",
    "    # add the buy profit column\n",
    "    final_df[\"buy_profit\"] = list(map(buy_profit, \n",
    "                                    final_df[\"adjclose\"], \n",
    "                                    final_df[f\"adjclose_{LOOKUP_STEP}\"], \n",
    "                                    final_df[f\"true_adjclose_{LOOKUP_STEP}\"])\n",
    "                                    # since we don't have profit for last sequence, add 0's\n",
    "                                    )\n",
    "    # add the sell profit column\n",
    "    final_df[\"sell_profit\"] = list(map(sell_profit, \n",
    "                                    final_df[\"adjclose\"], \n",
    "                                    final_df[f\"adjclose_{LOOKUP_STEP}\"], \n",
    "                                    final_df[f\"true_adjclose_{LOOKUP_STEP}\"])\n",
    "                                    # since we don't have profit for last sequence, add 0's\n",
    "                                    )\n",
    "    return final_df\n"
   ]
  },
  {
   "cell_type": "code",
   "execution_count": 56,
   "metadata": {},
   "outputs": [],
   "source": [
    "def predict(model, data):\n",
    "    # retrieve the last sequence from data\n",
    "    last_sequence = data[\"last_sequence\"][-N_STEPS:]\n",
    "    # expand dimension\n",
    "    last_sequence = np.expand_dims(last_sequence, axis=0)\n",
    "    # get the prediction (scaled from 0 to 1)\n",
    "    prediction = model.predict(last_sequence)\n",
    "    # get the price (by inverting the scaling)\n",
    "    if SCALE:\n",
    "        predicted_price = data[\"column_scaler\"][\"adjclose\"].inverse_transform(prediction)[0][0]\n",
    "    else:\n",
    "        predicted_price = prediction[0][0]\n",
    "    return predicted_price"
   ]
  },
  {
   "cell_type": "code",
   "execution_count": 57,
   "metadata": {},
   "outputs": [],
   "source": [
    "# load optimal model weights from results folder\n",
    "model_path = os.path.join(\"results\", model_name) + \".h5\"\n",
    "model.load_weights(model_path)"
   ]
  },
  {
   "cell_type": "code",
   "execution_count": 58,
   "metadata": {},
   "outputs": [],
   "source": [
    "# evaluate the model\n",
    "loss, mae = model.evaluate(data[\"X_test\"], data[\"y_test\"], verbose=0)\n",
    "# calculate the mean absolute error (inverse scaling)\n",
    "if SCALE:\n",
    "    mean_absolute_error = data[\"column_scaler\"][\"adjclose\"].inverse_transform([[mae]])[0][0]\n",
    "else:\n",
    "    mean_absolute_error = mae"
   ]
  },
  {
   "cell_type": "code",
   "execution_count": 59,
   "metadata": {},
   "outputs": [],
   "source": [
    "# get the final dataframe for the testing set\n",
    "final_df = get_final_df(model, data)"
   ]
  },
  {
   "cell_type": "code",
   "execution_count": 60,
   "metadata": {},
   "outputs": [],
   "source": [
    "# predict the future price\n",
    "future_price = predict(model, data)"
   ]
  },
  {
   "cell_type": "code",
   "execution_count": 61,
   "metadata": {},
   "outputs": [],
   "source": [
    "# we calculate the accuracy by counting the number of positive profits\n",
    "accuracy_score = (len(final_df[final_df['sell_profit'] > 0]) + len(final_df[final_df['buy_profit'] > 0])) / len(final_df)\n",
    "# calculating total buy & sell profit\n",
    "total_buy_profit  = final_df[\"buy_profit\"].sum()\n",
    "total_sell_profit = final_df[\"sell_profit\"].sum()\n",
    "# total profit by adding sell & buy together\n",
    "total_profit = total_buy_profit + total_sell_profit\n",
    "# dividing total profit by number of testing samples (number of trades)\n",
    "profit_per_trade = total_profit / len(final_df)"
   ]
  },
  {
   "cell_type": "code",
   "execution_count": 62,
   "metadata": {},
   "outputs": [
    {
     "output_type": "stream",
     "name": "stdout",
     "text": [
      "Future price after 1 days is 3349.97$\nhuber_loss loss: 0.00014234895934350789\nMean Absolute Error: 40.70268246896847\nAccuracy score: 0.48403361344537815\nTotal buy profit: -3063.8407592773438\nTotal sell profit: 3875.8902587890625\nTotal profit: 812.0494995117188\nProfit per trade: 0.6823945374048057\n"
     ]
    }
   ],
   "source": [
    "# printing metrics\n",
    "print(f\"Future price after {LOOKUP_STEP} days is {future_price:.2f}$\")\n",
    "print(f\"{LOSS} loss:\", loss)\n",
    "print(\"Mean Absolute Error:\", mean_absolute_error)\n",
    "print(\"Accuracy score:\", accuracy_score)\n",
    "print(\"Total buy profit:\", total_buy_profit)\n",
    "print(\"Total sell profit:\", total_sell_profit)\n",
    "print(\"Total profit:\", total_profit)\n",
    "print(\"Profit per trade:\", profit_per_trade)"
   ]
  },
  {
   "cell_type": "code",
   "execution_count": 63,
   "metadata": {},
   "outputs": [
    {
     "output_type": "display_data",
     "data": {
      "text/plain": "<Figure size 432x288 with 1 Axes>",
      "image/svg+xml": "<?xml version=\"1.0\" encoding=\"utf-8\" standalone=\"no\"?>\r\n<!DOCTYPE svg PUBLIC \"-//W3C//DTD SVG 1.1//EN\"\r\n  \"http://www.w3.org/Graphics/SVG/1.1/DTD/svg11.dtd\">\r\n<!-- Created with matplotlib (https://matplotlib.org/) -->\r\n<svg height=\"262.19625pt\" version=\"1.1\" viewBox=\"0 0 395.328125 262.19625\" width=\"395.328125pt\" xmlns=\"http://www.w3.org/2000/svg\" xmlns:xlink=\"http://www.w3.org/1999/xlink\">\r\n <metadata>\r\n  <rdf:RDF xmlns:cc=\"http://creativecommons.org/ns#\" xmlns:dc=\"http://purl.org/dc/elements/1.1/\" xmlns:rdf=\"http://www.w3.org/1999/02/22-rdf-syntax-ns#\">\r\n   <cc:Work>\r\n    <dc:type rdf:resource=\"http://purl.org/dc/dcmitype/StillImage\"/>\r\n    <dc:date>2021-04-20T20:54:13.874102</dc:date>\r\n    <dc:format>image/svg+xml</dc:format>\r\n    <dc:creator>\r\n     <cc:Agent>\r\n      <dc:title>Matplotlib v3.3.2, https://matplotlib.org/</dc:title>\r\n     </cc:Agent>\r\n    </dc:creator>\r\n   </cc:Work>\r\n  </rdf:RDF>\r\n </metadata>\r\n <defs>\r\n  <style type=\"text/css\">*{stroke-linecap:butt;stroke-linejoin:round;}</style>\r\n </defs>\r\n <g id=\"figure_1\">\r\n  <g id=\"patch_1\">\r\n   <path d=\"M 0 262.19625 \r\nL 395.328125 262.19625 \r\nL 395.328125 0 \r\nL 0 0 \r\nz\r\n\" style=\"fill:none;\"/>\r\n  </g>\r\n  <g id=\"axes_1\">\r\n   <g id=\"patch_2\">\r\n    <path d=\"M 53.328125 224.64 \r\nL 388.128125 224.64 \r\nL 388.128125 7.2 \r\nL 53.328125 7.2 \r\nz\r\n\" style=\"fill:#ffffff;\"/>\r\n   </g>\r\n   <g id=\"matplotlib.axis_1\">\r\n    <g id=\"xtick_1\">\r\n     <g id=\"line2d_1\">\r\n      <defs>\r\n       <path d=\"M 0 0 \r\nL 0 3.5 \r\n\" id=\"medc6f53adb\" style=\"stroke:#000000;stroke-width:0.8;\"/>\r\n      </defs>\r\n      <g>\r\n       <use style=\"stroke:#000000;stroke-width:0.8;\" x=\"96.391967\" xlink:href=\"#medc6f53adb\" y=\"224.64\"/>\r\n      </g>\r\n     </g>\r\n     <g id=\"text_1\">\r\n      <!-- 2017 -->\r\n      <g transform=\"translate(83.666967 239.238437)scale(0.1 -0.1)\">\r\n       <defs>\r\n        <path d=\"M 19.1875 8.296875 \r\nL 53.609375 8.296875 \r\nL 53.609375 0 \r\nL 7.328125 0 \r\nL 7.328125 8.296875 \r\nQ 12.9375 14.109375 22.625 23.890625 \r\nQ 32.328125 33.6875 34.8125 36.53125 \r\nQ 39.546875 41.84375 41.421875 45.53125 \r\nQ 43.3125 49.21875 43.3125 52.78125 \r\nQ 43.3125 58.59375 39.234375 62.25 \r\nQ 35.15625 65.921875 28.609375 65.921875 \r\nQ 23.96875 65.921875 18.8125 64.3125 \r\nQ 13.671875 62.703125 7.8125 59.421875 \r\nL 7.8125 69.390625 \r\nQ 13.765625 71.78125 18.9375 73 \r\nQ 24.125 74.21875 28.421875 74.21875 \r\nQ 39.75 74.21875 46.484375 68.546875 \r\nQ 53.21875 62.890625 53.21875 53.421875 \r\nQ 53.21875 48.921875 51.53125 44.890625 \r\nQ 49.859375 40.875 45.40625 35.40625 \r\nQ 44.1875 33.984375 37.640625 27.21875 \r\nQ 31.109375 20.453125 19.1875 8.296875 \r\nz\r\n\" id=\"DejaVuSans-50\"/>\r\n        <path d=\"M 31.78125 66.40625 \r\nQ 24.171875 66.40625 20.328125 58.90625 \r\nQ 16.5 51.421875 16.5 36.375 \r\nQ 16.5 21.390625 20.328125 13.890625 \r\nQ 24.171875 6.390625 31.78125 6.390625 \r\nQ 39.453125 6.390625 43.28125 13.890625 \r\nQ 47.125 21.390625 47.125 36.375 \r\nQ 47.125 51.421875 43.28125 58.90625 \r\nQ 39.453125 66.40625 31.78125 66.40625 \r\nz\r\nM 31.78125 74.21875 \r\nQ 44.046875 74.21875 50.515625 64.515625 \r\nQ 56.984375 54.828125 56.984375 36.375 \r\nQ 56.984375 17.96875 50.515625 8.265625 \r\nQ 44.046875 -1.421875 31.78125 -1.421875 \r\nQ 19.53125 -1.421875 13.0625 8.265625 \r\nQ 6.59375 17.96875 6.59375 36.375 \r\nQ 6.59375 54.828125 13.0625 64.515625 \r\nQ 19.53125 74.21875 31.78125 74.21875 \r\nz\r\n\" id=\"DejaVuSans-48\"/>\r\n        <path d=\"M 12.40625 8.296875 \r\nL 28.515625 8.296875 \r\nL 28.515625 63.921875 \r\nL 10.984375 60.40625 \r\nL 10.984375 69.390625 \r\nL 28.421875 72.90625 \r\nL 38.28125 72.90625 \r\nL 38.28125 8.296875 \r\nL 54.390625 8.296875 \r\nL 54.390625 0 \r\nL 12.40625 0 \r\nz\r\n\" id=\"DejaVuSans-49\"/>\r\n        <path d=\"M 8.203125 72.90625 \r\nL 55.078125 72.90625 \r\nL 55.078125 68.703125 \r\nL 28.609375 0 \r\nL 18.3125 0 \r\nL 43.21875 64.59375 \r\nL 8.203125 64.59375 \r\nz\r\n\" id=\"DejaVuSans-55\"/>\r\n       </defs>\r\n       <use xlink:href=\"#DejaVuSans-50\"/>\r\n       <use x=\"63.623047\" xlink:href=\"#DejaVuSans-48\"/>\r\n       <use x=\"127.246094\" xlink:href=\"#DejaVuSans-49\"/>\r\n       <use x=\"190.869141\" xlink:href=\"#DejaVuSans-55\"/>\r\n      </g>\r\n     </g>\r\n    </g>\r\n    <g id=\"xtick_2\">\r\n     <g id=\"line2d_2\">\r\n      <g>\r\n       <use style=\"stroke:#000000;stroke-width:0.8;\" x=\"160.718966\" xlink:href=\"#medc6f53adb\" y=\"224.64\"/>\r\n      </g>\r\n     </g>\r\n     <g id=\"text_2\">\r\n      <!-- 2018 -->\r\n      <g transform=\"translate(147.993966 239.238437)scale(0.1 -0.1)\">\r\n       <defs>\r\n        <path d=\"M 31.78125 34.625 \r\nQ 24.75 34.625 20.71875 30.859375 \r\nQ 16.703125 27.09375 16.703125 20.515625 \r\nQ 16.703125 13.921875 20.71875 10.15625 \r\nQ 24.75 6.390625 31.78125 6.390625 \r\nQ 38.8125 6.390625 42.859375 10.171875 \r\nQ 46.921875 13.96875 46.921875 20.515625 \r\nQ 46.921875 27.09375 42.890625 30.859375 \r\nQ 38.875 34.625 31.78125 34.625 \r\nz\r\nM 21.921875 38.8125 \r\nQ 15.578125 40.375 12.03125 44.71875 \r\nQ 8.5 49.078125 8.5 55.328125 \r\nQ 8.5 64.0625 14.71875 69.140625 \r\nQ 20.953125 74.21875 31.78125 74.21875 \r\nQ 42.671875 74.21875 48.875 69.140625 \r\nQ 55.078125 64.0625 55.078125 55.328125 \r\nQ 55.078125 49.078125 51.53125 44.71875 \r\nQ 48 40.375 41.703125 38.8125 \r\nQ 48.828125 37.15625 52.796875 32.3125 \r\nQ 56.78125 27.484375 56.78125 20.515625 \r\nQ 56.78125 9.90625 50.3125 4.234375 \r\nQ 43.84375 -1.421875 31.78125 -1.421875 \r\nQ 19.734375 -1.421875 13.25 4.234375 \r\nQ 6.78125 9.90625 6.78125 20.515625 \r\nQ 6.78125 27.484375 10.78125 32.3125 \r\nQ 14.796875 37.15625 21.921875 38.8125 \r\nz\r\nM 18.3125 54.390625 \r\nQ 18.3125 48.734375 21.84375 45.5625 \r\nQ 25.390625 42.390625 31.78125 42.390625 \r\nQ 38.140625 42.390625 41.71875 45.5625 \r\nQ 45.3125 48.734375 45.3125 54.390625 \r\nQ 45.3125 60.0625 41.71875 63.234375 \r\nQ 38.140625 66.40625 31.78125 66.40625 \r\nQ 25.390625 66.40625 21.84375 63.234375 \r\nQ 18.3125 60.0625 18.3125 54.390625 \r\nz\r\n\" id=\"DejaVuSans-56\"/>\r\n       </defs>\r\n       <use xlink:href=\"#DejaVuSans-50\"/>\r\n       <use x=\"63.623047\" xlink:href=\"#DejaVuSans-48\"/>\r\n       <use x=\"127.246094\" xlink:href=\"#DejaVuSans-49\"/>\r\n       <use x=\"190.869141\" xlink:href=\"#DejaVuSans-56\"/>\r\n      </g>\r\n     </g>\r\n    </g>\r\n    <g id=\"xtick_3\">\r\n     <g id=\"line2d_3\">\r\n      <g>\r\n       <use style=\"stroke:#000000;stroke-width:0.8;\" x=\"225.045965\" xlink:href=\"#medc6f53adb\" y=\"224.64\"/>\r\n      </g>\r\n     </g>\r\n     <g id=\"text_3\">\r\n      <!-- 2019 -->\r\n      <g transform=\"translate(212.320965 239.238437)scale(0.1 -0.1)\">\r\n       <defs>\r\n        <path d=\"M 10.984375 1.515625 \r\nL 10.984375 10.5 \r\nQ 14.703125 8.734375 18.5 7.8125 \r\nQ 22.3125 6.890625 25.984375 6.890625 \r\nQ 35.75 6.890625 40.890625 13.453125 \r\nQ 46.046875 20.015625 46.78125 33.40625 \r\nQ 43.953125 29.203125 39.59375 26.953125 \r\nQ 35.25 24.703125 29.984375 24.703125 \r\nQ 19.046875 24.703125 12.671875 31.3125 \r\nQ 6.296875 37.9375 6.296875 49.421875 \r\nQ 6.296875 60.640625 12.9375 67.421875 \r\nQ 19.578125 74.21875 30.609375 74.21875 \r\nQ 43.265625 74.21875 49.921875 64.515625 \r\nQ 56.59375 54.828125 56.59375 36.375 \r\nQ 56.59375 19.140625 48.40625 8.859375 \r\nQ 40.234375 -1.421875 26.421875 -1.421875 \r\nQ 22.703125 -1.421875 18.890625 -0.6875 \r\nQ 15.09375 0.046875 10.984375 1.515625 \r\nz\r\nM 30.609375 32.421875 \r\nQ 37.25 32.421875 41.125 36.953125 \r\nQ 45.015625 41.5 45.015625 49.421875 \r\nQ 45.015625 57.28125 41.125 61.84375 \r\nQ 37.25 66.40625 30.609375 66.40625 \r\nQ 23.96875 66.40625 20.09375 61.84375 \r\nQ 16.21875 57.28125 16.21875 49.421875 \r\nQ 16.21875 41.5 20.09375 36.953125 \r\nQ 23.96875 32.421875 30.609375 32.421875 \r\nz\r\n\" id=\"DejaVuSans-57\"/>\r\n       </defs>\r\n       <use xlink:href=\"#DejaVuSans-50\"/>\r\n       <use x=\"63.623047\" xlink:href=\"#DejaVuSans-48\"/>\r\n       <use x=\"127.246094\" xlink:href=\"#DejaVuSans-49\"/>\r\n       <use x=\"190.869141\" xlink:href=\"#DejaVuSans-57\"/>\r\n      </g>\r\n     </g>\r\n    </g>\r\n    <g id=\"xtick_4\">\r\n     <g id=\"line2d_4\">\r\n      <g>\r\n       <use style=\"stroke:#000000;stroke-width:0.8;\" x=\"289.372964\" xlink:href=\"#medc6f53adb\" y=\"224.64\"/>\r\n      </g>\r\n     </g>\r\n     <g id=\"text_4\">\r\n      <!-- 2020 -->\r\n      <g transform=\"translate(276.647964 239.238437)scale(0.1 -0.1)\">\r\n       <use xlink:href=\"#DejaVuSans-50\"/>\r\n       <use x=\"63.623047\" xlink:href=\"#DejaVuSans-48\"/>\r\n       <use x=\"127.246094\" xlink:href=\"#DejaVuSans-50\"/>\r\n       <use x=\"190.869141\" xlink:href=\"#DejaVuSans-48\"/>\r\n      </g>\r\n     </g>\r\n    </g>\r\n    <g id=\"xtick_5\">\r\n     <g id=\"line2d_5\">\r\n      <g>\r\n       <use style=\"stroke:#000000;stroke-width:0.8;\" x=\"353.876201\" xlink:href=\"#medc6f53adb\" y=\"224.64\"/>\r\n      </g>\r\n     </g>\r\n     <g id=\"text_5\">\r\n      <!-- 2021 -->\r\n      <g transform=\"translate(341.151201 239.238437)scale(0.1 -0.1)\">\r\n       <use xlink:href=\"#DejaVuSans-50\"/>\r\n       <use x=\"63.623047\" xlink:href=\"#DejaVuSans-48\"/>\r\n       <use x=\"127.246094\" xlink:href=\"#DejaVuSans-50\"/>\r\n       <use x=\"190.869141\" xlink:href=\"#DejaVuSans-49\"/>\r\n      </g>\r\n     </g>\r\n    </g>\r\n    <g id=\"text_6\">\r\n     <!-- Days -->\r\n     <g transform=\"translate(208.25 252.916562)scale(0.1 -0.1)\">\r\n      <defs>\r\n       <path d=\"M 19.671875 64.796875 \r\nL 19.671875 8.109375 \r\nL 31.59375 8.109375 \r\nQ 46.6875 8.109375 53.6875 14.9375 \r\nQ 60.6875 21.78125 60.6875 36.53125 \r\nQ 60.6875 51.171875 53.6875 57.984375 \r\nQ 46.6875 64.796875 31.59375 64.796875 \r\nz\r\nM 9.8125 72.90625 \r\nL 30.078125 72.90625 \r\nQ 51.265625 72.90625 61.171875 64.09375 \r\nQ 71.09375 55.28125 71.09375 36.53125 \r\nQ 71.09375 17.671875 61.125 8.828125 \r\nQ 51.171875 0 30.078125 0 \r\nL 9.8125 0 \r\nz\r\n\" id=\"DejaVuSans-68\"/>\r\n       <path d=\"M 34.28125 27.484375 \r\nQ 23.390625 27.484375 19.1875 25 \r\nQ 14.984375 22.515625 14.984375 16.5 \r\nQ 14.984375 11.71875 18.140625 8.90625 \r\nQ 21.296875 6.109375 26.703125 6.109375 \r\nQ 34.1875 6.109375 38.703125 11.40625 \r\nQ 43.21875 16.703125 43.21875 25.484375 \r\nL 43.21875 27.484375 \r\nz\r\nM 52.203125 31.203125 \r\nL 52.203125 0 \r\nL 43.21875 0 \r\nL 43.21875 8.296875 \r\nQ 40.140625 3.328125 35.546875 0.953125 \r\nQ 30.953125 -1.421875 24.3125 -1.421875 \r\nQ 15.921875 -1.421875 10.953125 3.296875 \r\nQ 6 8.015625 6 15.921875 \r\nQ 6 25.140625 12.171875 29.828125 \r\nQ 18.359375 34.515625 30.609375 34.515625 \r\nL 43.21875 34.515625 \r\nL 43.21875 35.40625 \r\nQ 43.21875 41.609375 39.140625 45 \r\nQ 35.0625 48.390625 27.6875 48.390625 \r\nQ 23 48.390625 18.546875 47.265625 \r\nQ 14.109375 46.140625 10.015625 43.890625 \r\nL 10.015625 52.203125 \r\nQ 14.9375 54.109375 19.578125 55.046875 \r\nQ 24.21875 56 28.609375 56 \r\nQ 40.484375 56 46.34375 49.84375 \r\nQ 52.203125 43.703125 52.203125 31.203125 \r\nz\r\n\" id=\"DejaVuSans-97\"/>\r\n       <path d=\"M 32.171875 -5.078125 \r\nQ 28.375 -14.84375 24.75 -17.8125 \r\nQ 21.140625 -20.796875 15.09375 -20.796875 \r\nL 7.90625 -20.796875 \r\nL 7.90625 -13.28125 \r\nL 13.1875 -13.28125 \r\nQ 16.890625 -13.28125 18.9375 -11.515625 \r\nQ 21 -9.765625 23.484375 -3.21875 \r\nL 25.09375 0.875 \r\nL 2.984375 54.6875 \r\nL 12.5 54.6875 \r\nL 29.59375 11.921875 \r\nL 46.6875 54.6875 \r\nL 56.203125 54.6875 \r\nz\r\n\" id=\"DejaVuSans-121\"/>\r\n       <path d=\"M 44.28125 53.078125 \r\nL 44.28125 44.578125 \r\nQ 40.484375 46.53125 36.375 47.5 \r\nQ 32.28125 48.484375 27.875 48.484375 \r\nQ 21.1875 48.484375 17.84375 46.4375 \r\nQ 14.5 44.390625 14.5 40.28125 \r\nQ 14.5 37.15625 16.890625 35.375 \r\nQ 19.28125 33.59375 26.515625 31.984375 \r\nL 29.59375 31.296875 \r\nQ 39.15625 29.25 43.1875 25.515625 \r\nQ 47.21875 21.78125 47.21875 15.09375 \r\nQ 47.21875 7.46875 41.1875 3.015625 \r\nQ 35.15625 -1.421875 24.609375 -1.421875 \r\nQ 20.21875 -1.421875 15.453125 -0.5625 \r\nQ 10.6875 0.296875 5.421875 2 \r\nL 5.421875 11.28125 \r\nQ 10.40625 8.6875 15.234375 7.390625 \r\nQ 20.0625 6.109375 24.8125 6.109375 \r\nQ 31.15625 6.109375 34.5625 8.28125 \r\nQ 37.984375 10.453125 37.984375 14.40625 \r\nQ 37.984375 18.0625 35.515625 20.015625 \r\nQ 33.0625 21.96875 24.703125 23.78125 \r\nL 21.578125 24.515625 \r\nQ 13.234375 26.265625 9.515625 29.90625 \r\nQ 5.8125 33.546875 5.8125 39.890625 \r\nQ 5.8125 47.609375 11.28125 51.796875 \r\nQ 16.75 56 26.8125 56 \r\nQ 31.78125 56 36.171875 55.265625 \r\nQ 40.578125 54.546875 44.28125 53.078125 \r\nz\r\n\" id=\"DejaVuSans-115\"/>\r\n      </defs>\r\n      <use xlink:href=\"#DejaVuSans-68\"/>\r\n      <use x=\"77.001953\" xlink:href=\"#DejaVuSans-97\"/>\r\n      <use x=\"138.28125\" xlink:href=\"#DejaVuSans-121\"/>\r\n      <use x=\"197.460938\" xlink:href=\"#DejaVuSans-115\"/>\r\n     </g>\r\n    </g>\r\n   </g>\r\n   <g id=\"matplotlib.axis_2\">\r\n    <g id=\"ytick_1\">\r\n     <g id=\"line2d_6\">\r\n      <defs>\r\n       <path d=\"M 0 0 \r\nL -3.5 0 \r\n\" id=\"m6b67054838\" style=\"stroke:#000000;stroke-width:0.8;\"/>\r\n      </defs>\r\n      <g>\r\n       <use style=\"stroke:#000000;stroke-width:0.8;\" x=\"53.328125\" xlink:href=\"#m6b67054838\" y=\"195.010739\"/>\r\n      </g>\r\n     </g>\r\n     <g id=\"text_7\">\r\n      <!-- 1000 -->\r\n      <g transform=\"translate(20.878125 198.809958)scale(0.1 -0.1)\">\r\n       <use xlink:href=\"#DejaVuSans-49\"/>\r\n       <use x=\"63.623047\" xlink:href=\"#DejaVuSans-48\"/>\r\n       <use x=\"127.246094\" xlink:href=\"#DejaVuSans-48\"/>\r\n       <use x=\"190.869141\" xlink:href=\"#DejaVuSans-48\"/>\r\n      </g>\r\n     </g>\r\n    </g>\r\n    <g id=\"ytick_2\">\r\n     <g id=\"line2d_7\">\r\n      <g>\r\n       <use style=\"stroke:#000000;stroke-width:0.8;\" x=\"53.328125\" xlink:href=\"#m6b67054838\" y=\"159.867421\"/>\r\n      </g>\r\n     </g>\r\n     <g id=\"text_8\">\r\n      <!-- 1500 -->\r\n      <g transform=\"translate(20.878125 163.66664)scale(0.1 -0.1)\">\r\n       <defs>\r\n        <path d=\"M 10.796875 72.90625 \r\nL 49.515625 72.90625 \r\nL 49.515625 64.59375 \r\nL 19.828125 64.59375 \r\nL 19.828125 46.734375 \r\nQ 21.96875 47.46875 24.109375 47.828125 \r\nQ 26.265625 48.1875 28.421875 48.1875 \r\nQ 40.625 48.1875 47.75 41.5 \r\nQ 54.890625 34.8125 54.890625 23.390625 \r\nQ 54.890625 11.625 47.5625 5.09375 \r\nQ 40.234375 -1.421875 26.90625 -1.421875 \r\nQ 22.3125 -1.421875 17.546875 -0.640625 \r\nQ 12.796875 0.140625 7.71875 1.703125 \r\nL 7.71875 11.625 \r\nQ 12.109375 9.234375 16.796875 8.0625 \r\nQ 21.484375 6.890625 26.703125 6.890625 \r\nQ 35.15625 6.890625 40.078125 11.328125 \r\nQ 45.015625 15.765625 45.015625 23.390625 \r\nQ 45.015625 31 40.078125 35.4375 \r\nQ 35.15625 39.890625 26.703125 39.890625 \r\nQ 22.75 39.890625 18.8125 39.015625 \r\nQ 14.890625 38.140625 10.796875 36.28125 \r\nz\r\n\" id=\"DejaVuSans-53\"/>\r\n       </defs>\r\n       <use xlink:href=\"#DejaVuSans-49\"/>\r\n       <use x=\"63.623047\" xlink:href=\"#DejaVuSans-53\"/>\r\n       <use x=\"127.246094\" xlink:href=\"#DejaVuSans-48\"/>\r\n       <use x=\"190.869141\" xlink:href=\"#DejaVuSans-48\"/>\r\n      </g>\r\n     </g>\r\n    </g>\r\n    <g id=\"ytick_3\">\r\n     <g id=\"line2d_8\">\r\n      <g>\r\n       <use style=\"stroke:#000000;stroke-width:0.8;\" x=\"53.328125\" xlink:href=\"#m6b67054838\" y=\"124.724103\"/>\r\n      </g>\r\n     </g>\r\n     <g id=\"text_9\">\r\n      <!-- 2000 -->\r\n      <g transform=\"translate(20.878125 128.523321)scale(0.1 -0.1)\">\r\n       <use xlink:href=\"#DejaVuSans-50\"/>\r\n       <use x=\"63.623047\" xlink:href=\"#DejaVuSans-48\"/>\r\n       <use x=\"127.246094\" xlink:href=\"#DejaVuSans-48\"/>\r\n       <use x=\"190.869141\" xlink:href=\"#DejaVuSans-48\"/>\r\n      </g>\r\n     </g>\r\n    </g>\r\n    <g id=\"ytick_4\">\r\n     <g id=\"line2d_9\">\r\n      <g>\r\n       <use style=\"stroke:#000000;stroke-width:0.8;\" x=\"53.328125\" xlink:href=\"#m6b67054838\" y=\"89.580784\"/>\r\n      </g>\r\n     </g>\r\n     <g id=\"text_10\">\r\n      <!-- 2500 -->\r\n      <g transform=\"translate(20.878125 93.380003)scale(0.1 -0.1)\">\r\n       <use xlink:href=\"#DejaVuSans-50\"/>\r\n       <use x=\"63.623047\" xlink:href=\"#DejaVuSans-53\"/>\r\n       <use x=\"127.246094\" xlink:href=\"#DejaVuSans-48\"/>\r\n       <use x=\"190.869141\" xlink:href=\"#DejaVuSans-48\"/>\r\n      </g>\r\n     </g>\r\n    </g>\r\n    <g id=\"ytick_5\">\r\n     <g id=\"line2d_10\">\r\n      <g>\r\n       <use style=\"stroke:#000000;stroke-width:0.8;\" x=\"53.328125\" xlink:href=\"#m6b67054838\" y=\"54.437466\"/>\r\n      </g>\r\n     </g>\r\n     <g id=\"text_11\">\r\n      <!-- 3000 -->\r\n      <g transform=\"translate(20.878125 58.236685)scale(0.1 -0.1)\">\r\n       <defs>\r\n        <path d=\"M 40.578125 39.3125 \r\nQ 47.65625 37.796875 51.625 33 \r\nQ 55.609375 28.21875 55.609375 21.1875 \r\nQ 55.609375 10.40625 48.1875 4.484375 \r\nQ 40.765625 -1.421875 27.09375 -1.421875 \r\nQ 22.515625 -1.421875 17.65625 -0.515625 \r\nQ 12.796875 0.390625 7.625 2.203125 \r\nL 7.625 11.71875 \r\nQ 11.71875 9.328125 16.59375 8.109375 \r\nQ 21.484375 6.890625 26.8125 6.890625 \r\nQ 36.078125 6.890625 40.9375 10.546875 \r\nQ 45.796875 14.203125 45.796875 21.1875 \r\nQ 45.796875 27.640625 41.28125 31.265625 \r\nQ 36.765625 34.90625 28.71875 34.90625 \r\nL 20.21875 34.90625 \r\nL 20.21875 43.015625 \r\nL 29.109375 43.015625 \r\nQ 36.375 43.015625 40.234375 45.921875 \r\nQ 44.09375 48.828125 44.09375 54.296875 \r\nQ 44.09375 59.90625 40.109375 62.90625 \r\nQ 36.140625 65.921875 28.71875 65.921875 \r\nQ 24.65625 65.921875 20.015625 65.03125 \r\nQ 15.375 64.15625 9.8125 62.3125 \r\nL 9.8125 71.09375 \r\nQ 15.4375 72.65625 20.34375 73.4375 \r\nQ 25.25 74.21875 29.59375 74.21875 \r\nQ 40.828125 74.21875 47.359375 69.109375 \r\nQ 53.90625 64.015625 53.90625 55.328125 \r\nQ 53.90625 49.265625 50.4375 45.09375 \r\nQ 46.96875 40.921875 40.578125 39.3125 \r\nz\r\n\" id=\"DejaVuSans-51\"/>\r\n       </defs>\r\n       <use xlink:href=\"#DejaVuSans-51\"/>\r\n       <use x=\"63.623047\" xlink:href=\"#DejaVuSans-48\"/>\r\n       <use x=\"127.246094\" xlink:href=\"#DejaVuSans-48\"/>\r\n       <use x=\"190.869141\" xlink:href=\"#DejaVuSans-48\"/>\r\n      </g>\r\n     </g>\r\n    </g>\r\n    <g id=\"ytick_6\">\r\n     <g id=\"line2d_11\">\r\n      <g>\r\n       <use style=\"stroke:#000000;stroke-width:0.8;\" x=\"53.328125\" xlink:href=\"#m6b67054838\" y=\"19.294148\"/>\r\n      </g>\r\n     </g>\r\n     <g id=\"text_12\">\r\n      <!-- 3500 -->\r\n      <g transform=\"translate(20.878125 23.093366)scale(0.1 -0.1)\">\r\n       <use xlink:href=\"#DejaVuSans-51\"/>\r\n       <use x=\"63.623047\" xlink:href=\"#DejaVuSans-53\"/>\r\n       <use x=\"127.246094\" xlink:href=\"#DejaVuSans-48\"/>\r\n       <use x=\"190.869141\" xlink:href=\"#DejaVuSans-48\"/>\r\n      </g>\r\n     </g>\r\n    </g>\r\n    <g id=\"text_13\">\r\n     <!-- Price -->\r\n     <g transform=\"translate(14.798438 128.117656)rotate(-90)scale(0.1 -0.1)\">\r\n      <defs>\r\n       <path d=\"M 19.671875 64.796875 \r\nL 19.671875 37.40625 \r\nL 32.078125 37.40625 \r\nQ 38.96875 37.40625 42.71875 40.96875 \r\nQ 46.484375 44.53125 46.484375 51.125 \r\nQ 46.484375 57.671875 42.71875 61.234375 \r\nQ 38.96875 64.796875 32.078125 64.796875 \r\nz\r\nM 9.8125 72.90625 \r\nL 32.078125 72.90625 \r\nQ 44.34375 72.90625 50.609375 67.359375 \r\nQ 56.890625 61.8125 56.890625 51.125 \r\nQ 56.890625 40.328125 50.609375 34.8125 \r\nQ 44.34375 29.296875 32.078125 29.296875 \r\nL 19.671875 29.296875 \r\nL 19.671875 0 \r\nL 9.8125 0 \r\nz\r\n\" id=\"DejaVuSans-80\"/>\r\n       <path d=\"M 41.109375 46.296875 \r\nQ 39.59375 47.171875 37.8125 47.578125 \r\nQ 36.03125 48 33.890625 48 \r\nQ 26.265625 48 22.1875 43.046875 \r\nQ 18.109375 38.09375 18.109375 28.8125 \r\nL 18.109375 0 \r\nL 9.078125 0 \r\nL 9.078125 54.6875 \r\nL 18.109375 54.6875 \r\nL 18.109375 46.1875 \r\nQ 20.953125 51.171875 25.484375 53.578125 \r\nQ 30.03125 56 36.53125 56 \r\nQ 37.453125 56 38.578125 55.875 \r\nQ 39.703125 55.765625 41.0625 55.515625 \r\nz\r\n\" id=\"DejaVuSans-114\"/>\r\n       <path d=\"M 9.421875 54.6875 \r\nL 18.40625 54.6875 \r\nL 18.40625 0 \r\nL 9.421875 0 \r\nz\r\nM 9.421875 75.984375 \r\nL 18.40625 75.984375 \r\nL 18.40625 64.59375 \r\nL 9.421875 64.59375 \r\nz\r\n\" id=\"DejaVuSans-105\"/>\r\n       <path d=\"M 48.78125 52.59375 \r\nL 48.78125 44.1875 \r\nQ 44.96875 46.296875 41.140625 47.34375 \r\nQ 37.3125 48.390625 33.40625 48.390625 \r\nQ 24.65625 48.390625 19.8125 42.84375 \r\nQ 14.984375 37.3125 14.984375 27.296875 \r\nQ 14.984375 17.28125 19.8125 11.734375 \r\nQ 24.65625 6.203125 33.40625 6.203125 \r\nQ 37.3125 6.203125 41.140625 7.25 \r\nQ 44.96875 8.296875 48.78125 10.40625 \r\nL 48.78125 2.09375 \r\nQ 45.015625 0.34375 40.984375 -0.53125 \r\nQ 36.96875 -1.421875 32.421875 -1.421875 \r\nQ 20.0625 -1.421875 12.78125 6.34375 \r\nQ 5.515625 14.109375 5.515625 27.296875 \r\nQ 5.515625 40.671875 12.859375 48.328125 \r\nQ 20.21875 56 33.015625 56 \r\nQ 37.15625 56 41.109375 55.140625 \r\nQ 45.0625 54.296875 48.78125 52.59375 \r\nz\r\n\" id=\"DejaVuSans-99\"/>\r\n       <path d=\"M 56.203125 29.59375 \r\nL 56.203125 25.203125 \r\nL 14.890625 25.203125 \r\nQ 15.484375 15.921875 20.484375 11.0625 \r\nQ 25.484375 6.203125 34.421875 6.203125 \r\nQ 39.59375 6.203125 44.453125 7.46875 \r\nQ 49.3125 8.734375 54.109375 11.28125 \r\nL 54.109375 2.78125 \r\nQ 49.265625 0.734375 44.1875 -0.34375 \r\nQ 39.109375 -1.421875 33.890625 -1.421875 \r\nQ 20.796875 -1.421875 13.15625 6.1875 \r\nQ 5.515625 13.8125 5.515625 26.8125 \r\nQ 5.515625 40.234375 12.765625 48.109375 \r\nQ 20.015625 56 32.328125 56 \r\nQ 43.359375 56 49.78125 48.890625 \r\nQ 56.203125 41.796875 56.203125 29.59375 \r\nz\r\nM 47.21875 32.234375 \r\nQ 47.125 39.59375 43.09375 43.984375 \r\nQ 39.0625 48.390625 32.421875 48.390625 \r\nQ 24.90625 48.390625 20.390625 44.140625 \r\nQ 15.875 39.890625 15.1875 32.171875 \r\nz\r\n\" id=\"DejaVuSans-101\"/>\r\n      </defs>\r\n      <use xlink:href=\"#DejaVuSans-80\"/>\r\n      <use x=\"58.552734\" xlink:href=\"#DejaVuSans-114\"/>\r\n      <use x=\"99.666016\" xlink:href=\"#DejaVuSans-105\"/>\r\n      <use x=\"127.449219\" xlink:href=\"#DejaVuSans-99\"/>\r\n      <use x=\"182.429688\" xlink:href=\"#DejaVuSans-101\"/>\r\n     </g>\r\n    </g>\r\n   </g>\r\n   <g id=\"line2d_12\">\r\n    <path clip-path=\"url(#p45dbed17fb)\" d=\"M 68.546307 212.398951 \r\nL 68.898784 211.335514 \r\nL 69.427499 211.838765 \r\nL 69.603737 212.256267 \r\nL 69.956214 211.459219 \r\nL 70.837405 211.277879 \r\nL 71.189882 210.996732 \r\nL 71.36612 211.282799 \r\nL 71.894836 211.595576 \r\nL 72.247312 211.566052 \r\nL 72.423551 212.068603 \r\nL 72.599789 211.916083 \r\nL 73.128504 211.707329 \r\nL 73.304742 212.07282 \r\nL 73.480981 211.934358 \r\nL 73.657219 211.246952 \r\nL 73.833457 211.085998 \r\nL 74.362172 211.346758 \r\nL 74.890888 211.005166 \r\nL 75.067126 209.850357 \r\nL 75.948318 210.188436 \r\nL 76.124556 211.869691 \r\nL 76.300794 211.071939 \r\nL 76.829509 211.808542 \r\nL 77.005748 211.802918 \r\nL 77.358224 210.577822 \r\nL 77.534463 210.818206 \r\nL 78.063178 210.458338 \r\nL 78.591893 208.663918 \r\nL 78.768131 209.127109 \r\nL 79.296846 207.93575 \r\nL 79.473085 207.049437 \r\nL 79.649323 207.026241 \r\nL 79.825561 206.445672 \r\nL 80.530515 206.67621 \r\nL 80.706753 205.950152 \r\nL 81.05923 206.296665 \r\nL 81.235468 206.136409 \r\nL 81.764183 206.889181 \r\nL 81.940422 206.671993 \r\nL 82.292898 207.454284 \r\nL 82.469137 208.157854 \r\nL 83.17409 207.824696 \r\nL 83.350329 208.342708 \r\nL 83.526567 207.733324 \r\nL 83.702805 206.390847 \r\nL 84.23152 206.595383 \r\nL 84.407759 207.48029 \r\nL 84.583997 207.777605 \r\nL 84.760235 210.732454 \r\nL 84.936474 209.783584 \r\nL 85.465189 210.093551 \r\nL 85.641427 211.488739 \r\nL 85.817665 211.385415 \r\nL 85.993904 212.227452 \r\nL 86.170142 210.127287 \r\nL 86.698857 209.929078 \r\nL 86.875096 211.044527 \r\nL 87.051334 213.117982 \r\nL 87.227572 213.354848 \r\nL 87.403811 214.756364 \r\nL 88.285002 212.132562 \r\nL 88.461241 211.868288 \r\nL 88.637479 210.473799 \r\nL 89.166194 210.09917 \r\nL 89.342433 210.465365 \r\nL 89.518671 210.447794 \r\nL 89.871148 211.40369 \r\nL 90.399863 211.702408 \r\nL 90.752339 213.028717 \r\nL 90.928578 213.261366 \r\nL 91.104816 211.924517 \r\nL 91.633531 211.547781 \r\nL 91.809769 211.147147 \r\nL 91.986008 211.36433 \r\nL 92.162246 211.270852 \r\nL 92.338485 211.871098 \r\nL 92.8672 210.87162 \r\nL 93.395915 212.03627 \r\nL 93.572153 211.457812 \r\nL 94.100868 211.090918 \r\nL 94.277106 211.134495 \r\nL 94.629583 211.838061 \r\nL 94.805821 211.078263 \r\nL 95.510775 211.026955 \r\nL 95.687013 211.517554 \r\nL 95.863252 212.591536 \r\nL 96.03949 212.324448 \r\nL 96.744443 212.077741 \r\nL 97.09692 209.349917 \r\nL 97.273158 209.284551 \r\nL 97.801873 209.35624 \r\nL 97.978112 209.136946 \r\nL 98.15435 208.109356 \r\nL 98.330589 207.863353 \r\nL 98.506827 208.384883 \r\nL 99.21178 208.542324 \r\nL 99.388019 208.432677 \r\nL 99.564257 208.482578 \r\nL 99.740495 207.811341 \r\nL 100.26921 207.490834 \r\nL 100.445449 206.501197 \r\nL 100.621687 206.316343 \r\nL 101.502879 207.417738 \r\nL 101.855356 206.260115 \r\nL 102.031594 208.351142 \r\nL 102.207832 208.531076 \r\nL 102.736547 208.189484 \r\nL 102.912786 207.682715 \r\nL 103.089024 207.566745 \r\nL 103.441501 206.500494 \r\nL 103.970216 206.510335 \r\nL 104.146454 206.066826 \r\nL 104.498931 205.900247 \r\nL 104.675169 205.101089 \r\nL 105.380123 205.159428 \r\nL 105.556361 205.399807 \r\nL 105.732599 205.8883 \r\nL 105.908838 205.649324 \r\nL 106.437553 205.902358 \r\nL 106.613791 205.337251 \r\nL 106.79003 205.630349 \r\nL 106.966268 205.562169 \r\nL 107.142506 205.792008 \r\nL 107.671221 205.833474 \r\nL 108.023698 205.342875 \r\nL 108.199936 205.380828 \r\nL 108.376175 205.231117 \r\nL 109.081128 205.344986 \r\nL 109.433605 205.391373 \r\nL 109.609843 205.063839 \r\nL 110.138558 206.031683 \r\nL 110.314797 205.690091 \r\nL 110.843512 205.777246 \r\nL 111.372227 205.132015 \r\nL 111.548465 203.844363 \r\nL 111.724703 203.702383 \r\nL 112.07718 202.636136 \r\nL 112.782134 201.387141 \r\nL 112.958372 202.160294 \r\nL 113.13461 202.39927 \r\nL 113.310849 201.544587 \r\nL 113.839564 201.873528 \r\nL 114.015802 202.304385 \r\nL 114.19204 203.116898 \r\nL 114.368279 201.899533 \r\nL 115.073232 201.773717 \r\nL 115.24947 202.095631 \r\nL 115.425709 201.894613 \r\nL 115.601947 202.142722 \r\nL 115.778186 201.518581 \r\nL 116.306901 201.503819 \r\nL 116.483139 201.386442 \r\nL 116.835616 200.282941 \r\nL 117.011854 198.64948 \r\nL 117.540569 198.740148 \r\nL 117.893046 199.401543 \r\nL 118.069284 199.639113 \r\nL 118.245522 198.592548 \r\nL 118.774238 198.326862 \r\nL 119.126714 198.692354 \r\nL 119.302953 197.72732 \r\nL 119.479191 197.964889 \r\nL 120.007906 197.395564 \r\nL 120.184144 198.893372 \r\nL 120.360383 197.928338 \r\nL 120.536621 197.833449 \r\nL 120.712859 197.072248 \r\nL 121.241574 197.011099 \r\nL 121.77029 195.307347 \r\nL 121.946528 195.242684 \r\nL 122.651481 195.388882 \r\nL 122.82772 195.295399 \r\nL 123.180196 194.213687 \r\nL 123.708911 194.799879 \r\nL 123.88515 194.302952 \r\nL 124.061388 194.288894 \r\nL 124.413865 197.477099 \r\nL 124.94258 196.360947 \r\nL 125.118818 196.664586 \r\nL 125.295057 197.529111 \r\nL 125.471295 195.874561 \r\nL 125.647533 195.350225 \r\nL 126.176248 195.531561 \r\nL 126.352487 194.854001 \r\nL 126.528725 194.919368 \r\nL 126.704963 194.747868 \r\nL 126.881202 195.433866 \r\nL 127.409917 196.642793 \r\nL 127.586155 195.69041 \r\nL 128.11487 198.267824 \r\nL 128.643585 197.020935 \r\nL 128.996062 197.46093 \r\nL 129.348539 195.258853 \r\nL 129.877254 195.423322 \r\nL 130.053492 194.553173 \r\nL 130.229731 194.966458 \r\nL 130.405969 194.883521 \r\nL 130.582207 194.305063 \r\nL 131.287161 193.122138 \r\nL 131.463399 192.993516 \r\nL 131.639637 193.206478 \r\nL 131.815876 192.273078 \r\nL 132.344591 192.208411 \r\nL 132.520829 191.299601 \r\nL 132.697067 191.777554 \r\nL 133.049544 195.86964 \r\nL 133.578259 195.278531 \r\nL 133.754498 195.299616 \r\nL 133.930736 195.93009 \r\nL 134.106974 195.883698 \r\nL 134.283213 195.554054 \r\nL 134.811928 195.72485 \r\nL 134.988166 196.275195 \r\nL 135.164404 198.038689 \r\nL 135.516881 196.184527 \r\nL 136.045596 196.223887 \r\nL 136.221835 196.544394 \r\nL 136.398073 197.782141 \r\nL 136.574311 197.929745 \r\nL 136.75055 198.29383 \r\nL 137.279265 197.337225 \r\nL 137.80798 198.858229 \r\nL 137.984218 198.804811 \r\nL 138.512933 198.239708 \r\nL 138.86541 196.374302 \r\nL 139.041648 196.539474 \r\nL 139.217887 197.451793 \r\nL 139.92284 197.27397 \r\nL 140.099078 196.453726 \r\nL 140.275317 197.407512 \r\nL 140.451555 196.559855 \r\nL 140.98027 196.235131 \r\nL 141.156508 195.038856 \r\nL 141.685223 196.824837 \r\nL 142.213939 197.12918 \r\nL 142.390177 196.893717 \r\nL 142.742654 198.166611 \r\nL 142.918892 199.242699 \r\nL 143.447607 199.326341 \r\nL 143.800084 198.075235 \r\nL 143.976322 197.72732 \r\nL 144.15256 197.879137 \r\nL 144.681275 198.026038 \r\nL 144.857514 197.439142 \r\nL 145.209991 195.743125 \r\nL 145.386229 195.644023 \r\nL 145.914944 195.910407 \r\nL 146.267421 194.945373 \r\nL 147.148612 194.369022 \r\nL 147.501089 195.951878 \r\nL 147.677328 196.21194 \r\nL 147.853566 197.3794 \r\nL 148.382281 196.704646 \r\nL 148.558519 196.914806 \r\nL 148.734758 196.948542 \r\nL 148.910996 187.915307 \r\nL 149.087234 187.219467 \r\nL 149.792188 187.723417 \r\nL 149.968426 188.388334 \r\nL 150.320903 186.529951 \r\nL 150.849618 186.353531 \r\nL 151.025856 185.671051 \r\nL 151.378333 186.200311 \r\nL 151.554571 185.931811 \r\nL 152.083286 185.392718 \r\nL 152.259525 186.106129 \r\nL 152.435763 185.361084 \r\nL 152.78824 186.13283 \r\nL 153.316955 185.206457 \r\nL 153.493193 184.034776 \r\nL 153.669432 181.937425 \r\nL 154.021908 181.24651 \r\nL 154.550623 181.403248 \r\nL 154.726862 183.675612 \r\nL 154.9031 182.587576 \r\nL 155.079338 183.599706 \r\nL 155.255577 185.595848 \r\nL 155.784292 185.060264 \r\nL 156.136768 183.779635 \r\nL 156.313007 183.624304 \r\nL 156.489245 183.137918 \r\nL 157.194199 183.474593 \r\nL 157.722914 181.615515 \r\nL 158.251629 181.840429 \r\nL 158.427867 182.526427 \r\nL 158.604105 182.727446 \r\nL 158.780344 183.177282 \r\nL 158.956582 182.586873 \r\nL 159.661536 182.200296 \r\nL 159.837774 181.930398 \r\nL 160.014012 183.099265 \r\nL 160.190251 181.725861 \r\nL 161.071442 180.279366 \r\nL 161.423919 177.659078 \r\nL 162.128872 177.134742 \r\nL 162.481349 173.559261 \r\nL 162.657588 173.583156 \r\nL 163.538779 174.394267 \r\nL 163.715018 174.305705 \r\nL 163.891256 172.005216 \r\nL 164.419971 169.529019 \r\nL 164.596209 169.882563 \r\nL 165.124924 165.653413 \r\nL 165.65364 164.237848 \r\nL 165.829878 163.319197 \r\nL 166.006116 167.598951 \r\nL 166.182355 164.791003 \r\nL 166.358593 167.598951 \r\nL 166.887308 163.885008 \r\nL 167.063546 165.716673 \r\nL 167.239785 170.375273 \r\nL 167.416023 171.141399 \r\nL 167.592261 167.863933 \r\nL 168.120977 165.876225 \r\nL 168.297215 163.307948 \r\nL 168.473453 162.555181 \r\nL 168.649692 163.473832 \r\nL 168.82593 162.091995 \r\nL 169.707122 160.897825 \r\nL 170.059598 158.324633 \r\nL 170.588313 159.025388 \r\nL 170.764552 158.992356 \r\nL 170.94079 160.327802 \r\nL 171.117029 159.849849 \r\nL 171.293267 158.207955 \r\nL 171.99822 156.704522 \r\nL 172.174459 156.222357 \r\nL 172.526935 152.951918 \r\nL 173.05565 153.669542 \r\nL 173.231889 153.471337 \r\nL 173.584365 154.829271 \r\nL 173.760604 156.709439 \r\nL 174.289319 153.786923 \r\nL 174.465557 154.113758 \r\nL 174.818034 160.17949 \r\nL 174.994272 155.94121 \r\nL 175.522987 160.074763 \r\nL 175.699226 164.687675 \r\nL 175.875464 163.568718 \r\nL 176.051702 168.864814 \r\nL 176.756656 167.45486 \r\nL 176.932894 166.153159 \r\nL 177.109133 163.258751 \r\nL 177.285371 166.528487 \r\nL 177.461609 166.468745 \r\nL 177.990324 164.350305 \r\nL 178.166563 164.994828 \r\nL 178.342801 163.487183 \r\nL 178.519039 164.731956 \r\nL 178.695278 163.979189 \r\nL 179.576469 155.867406 \r\nL 179.752708 157.935242 \r\nL 179.928946 158.612103 \r\nL 180.457661 162.672563 \r\nL 180.6339 162.666935 \r\nL 180.986376 154.763206 \r\nL 181.162615 155.219365 \r\nL 181.69133 154.085642 \r\nL 181.867568 154.969844 \r\nL 182.043806 154.801163 \r\nL 182.220045 154.177721 \r\nL 182.396283 152.828916 \r\nL 182.924998 153.373638 \r\nL 183.101237 152.276464 \r\nL 183.277475 152.200558 \r\nL 183.453713 152.634221 \r\nL 183.629952 152.730513 \r\nL 184.158667 154.517203 \r\nL 184.334905 153.732801 \r\nL 184.687382 154.640204 \r\nL 184.86362 153.860728 \r\nL 185.392335 154.146087 \r\nL 185.568573 152.708025 \r\nL 185.744812 152.622981 \r\nL 186.097289 151.934169 \r\nL 186.97848 150.756867 \r\nL 187.154719 149.919048 \r\nL 187.330957 148.251147 \r\nL 187.859672 146.066642 \r\nL 188.03591 146.108812 \r\nL 188.388387 146.935383 \r\nL 188.564626 146.574813 \r\nL 189.093341 145.897952 \r\nL 189.269579 145.468502 \r\nL 189.445817 144.133056 \r\nL 189.622056 144.687618 \r\nL 189.798294 144.137972 \r\nL 190.327009 143.365522 \r\nL 190.503247 142.290142 \r\nL 190.855724 144.708699 \r\nL 191.031962 148.400154 \r\nL 191.560678 146.43635 \r\nL 191.736916 148.585712 \r\nL 191.913154 145.708181 \r\nL 192.089393 145.824148 \r\nL 192.265631 144.841542 \r\nL 192.794346 146.234628 \r\nL 193.323061 145.062946 \r\nL 193.499299 143.067508 \r\nL 194.028014 142.782852 \r\nL 194.204253 141.944329 \r\nL 194.55673 137.865593 \r\nL 194.732968 137.200684 \r\nL 195.261683 135.693734 \r\nL 195.437921 135.764724 \r\nL 195.61416 137.869814 \r\nL 195.790398 137.818506 \r\nL 195.966636 138.640857 \r\nL 196.495351 136.726249 \r\nL 196.67159 134.310498 \r\nL 196.847828 138.219137 \r\nL 197.024066 137.567578 \r\nL 197.200305 140.241988 \r\nL 197.72902 140.367101 \r\nL 197.905258 138.980338 \r\nL 198.081497 136.368493 \r\nL 198.257735 137.144451 \r\nL 198.433973 135.425243 \r\nL 198.962688 134.389922 \r\nL 199.315165 131.856789 \r\nL 199.491403 132.71569 \r\nL 200.196357 130.371632 \r\nL 200.372595 132.974348 \r\nL 200.548834 132.700229 \r\nL 200.90131 133.389745 \r\nL 201.430025 132.918116 \r\nL 201.606264 131.40836 \r\nL 201.782502 131.548933 \r\nL 201.95874 131.37392 \r\nL 202.134979 129.807228 \r\nL 202.663694 129.445963 \r\nL 202.839932 124.857649 \r\nL 203.01617 124.55682 \r\nL 203.192409 123.830762 \r\nL 203.368647 121.947077 \r\nL 204.073601 125.088191 \r\nL 204.249839 127.654348 \r\nL 204.426077 128.092945 \r\nL 204.602316 129.010884 \r\nL 205.131031 125.627284 \r\nL 205.307269 125.426969 \r\nL 205.483507 125.436107 \r\nL 205.659746 126.819351 \r\nL 205.835984 131.188363 \r\nL 206.364699 128.867496 \r\nL 206.540938 129.89579 \r\nL 206.717176 128.639065 \r\nL 206.893414 130.697763 \r\nL 207.069653 129.337719 \r\nL 207.598368 126.512894 \r\nL 207.774606 126.491813 \r\nL 207.950844 123.811783 \r\nL 208.127083 124.513243 \r\nL 208.303321 124.417654 \r\nL 208.832036 126.740622 \r\nL 209.008274 128.044443 \r\nL 209.360751 132.480231 \r\nL 209.53699 134.253562 \r\nL 210.065705 133.838877 \r\nL 210.241943 141.926757 \r\nL 210.418181 144.449345 \r\nL 210.59442 139.581996 \r\nL 210.770658 141.526127 \r\nL 211.475611 136.551236 \r\nL 211.65185 140.839425 \r\nL 211.828088 141.309638 \r\nL 212.004327 139.533494 \r\nL 212.533042 140.981405 \r\nL 212.70928 148.326359 \r\nL 212.885518 140.034638 \r\nL 213.237995 157.134676 \r\nL 213.76671 157.729298 \r\nL 214.119187 148.232872 \r\nL 214.295425 148.232872 \r\nL 214.471663 150.884785 \r\nL 215.000379 149.829782 \r\nL 215.176617 141.909889 \r\nL 215.352855 141.950652 \r\nL 215.529094 144.936427 \r\nL 215.705332 150.248696 \r\nL 216.234047 150.64792 \r\nL 216.410285 152.90834 \r\nL 216.586524 151.472389 \r\nL 216.762762 153.301944 \r\nL 216.939 159.003595 \r\nL 217.467715 160.186525 \r\nL 217.643954 158.691527 \r\nL 217.820192 159.722626 \r\nL 218.172669 154.151012 \r\nL 218.701384 154.14468 \r\nL 218.877622 147.373971 \r\nL 219.053861 147.667773 \r\nL 219.230099 146.501008 \r\nL 219.406337 140.724154 \r\nL 219.935052 148.03115 \r\nL 220.111291 145.86703 \r\nL 220.463767 150.791307 \r\nL 220.640006 149.954895 \r\nL 221.168721 149.799564 \r\nL 221.344959 148.372742 \r\nL 221.521198 148.735423 \r\nL 221.873674 158.397725 \r\nL 222.402389 156.249066 \r\nL 223.107343 170.834951 \r\nL 223.636058 161.91276 \r\nL 223.988535 162.563615 \r\nL 224.869726 157.117105 \r\nL 225.222203 159.847739 \r\nL 225.57468 150.764598 \r\nL 226.103395 148.861943 \r\nL 226.279633 148.662322 \r\nL 226.455871 148.887245 \r\nL 226.808348 151.629127 \r\nL 227.513302 146.950141 \r\nL 227.68954 146.286639 \r\nL 227.865778 146.077186 \r\nL 228.042017 150.577633 \r\nL 228.74697 150.025885 \r\nL 229.099447 147.878633 \r\nL 229.275685 150.175596 \r\nL 229.8044 153.268911 \r\nL 230.156877 144.493626 \r\nL 230.333115 150.99514 \r\nL 231.038069 148.705196 \r\nL 231.390545 151.828739 \r\nL 231.566784 153.666736 \r\nL 231.743022 153.471337 \r\nL 232.271737 150.167162 \r\nL 232.447976 150.027292 \r\nL 232.800452 152.279982 \r\nL 232.976691 150.900255 \r\nL 233.857882 151.472389 \r\nL 234.034121 150.620507 \r\nL 234.739074 150.280322 \r\nL 234.915312 149.950682 \r\nL 235.091551 150.039244 \r\nL 235.444028 146.079288 \r\nL 235.972743 146.34216 \r\nL 236.148981 147.992497 \r\nL 236.325219 151.014823 \r\nL 236.501458 151.376792 \r\nL 236.677696 147.875115 \r\nL 237.206411 147.700806 \r\nL 237.382649 146.456024 \r\nL 237.558888 146.778646 \r\nL 237.911364 142.84751 \r\nL 238.44008 141.462867 \r\nL 238.792556 137.427709 \r\nL 238.968795 141.257627 \r\nL 239.145033 140.590607 \r\nL 239.673748 139.922884 \r\nL 239.849986 141.192265 \r\nL 240.202463 140.134448 \r\nL 240.378701 137.784067 \r\nL 240.907416 137.798824 \r\nL 241.083655 137.3265 \r\nL 241.259893 137.455825 \r\nL 241.61237 135.276939 \r\nL 242.141085 136.262359 \r\nL 242.317323 135.454767 \r\nL 242.6698 135.754883 \r\nL 242.846038 135.627669 \r\nL 243.374753 134.350558 \r\nL 243.550992 134.225454 \r\nL 243.72723 134.445451 \r\nL 243.903468 132.6447 \r\nL 244.608422 130.082052 \r\nL 244.78466 131.629765 \r\nL 244.960899 131.594621 \r\nL 245.137137 128.194154 \r\nL 245.313375 129.051647 \r\nL 245.84209 129.888763 \r\nL 246.194567 131.695135 \r\nL 246.370805 127.362666 \r\nL 247.075759 130.276747 \r\nL 247.251997 130.503771 \r\nL 247.604474 132.45704 \r\nL 247.780712 137.187325 \r\nL 248.309427 135.96153 \r\nL 248.661904 131.2207 \r\nL 248.838142 133.931652 \r\nL 249.014381 134.636629 \r\nL 249.543096 134.738541 \r\nL 249.719334 134.58672 \r\nL 249.895572 137.693394 \r\nL 250.071811 137.145155 \r\nL 250.248049 136.220884 \r\nL 251.129241 137.634356 \r\nL 251.305479 140.53368 \r\nL 251.481718 146.323893 \r\nL 252.362909 141.989313 \r\nL 252.715386 134.519951 \r\nL 253.244101 134.304175 \r\nL 253.42034 134.893177 \r\nL 253.596578 133.840276 \r\nL 253.772816 133.884557 \r\nL 253.949055 132.734669 \r\nL 254.654008 131.134944 \r\nL 254.830246 130.474257 \r\nL 255.006485 130.958524 \r\nL 255.182723 130.77578 \r\nL 255.711438 133.280094 \r\nL 255.887677 131.905291 \r\nL 256.063915 131.451937 \r\nL 256.240153 132.200492 \r\nL 256.416392 130.19311 \r\nL 257.65006 128.075373 \r\nL 258.178775 125.546453 \r\nL 258.355013 123.50041 \r\nL 258.531252 124.6489 \r\nL 258.883729 123.248787 \r\nL 259.412444 124.028263 \r\nL 259.941159 127.217871 \r\nL 260.117397 125.734121 \r\nL 260.646112 125.111383 \r\nL 260.82235 124.667166 \r\nL 261.351065 130.877701 \r\nL 261.879781 131.856086 \r\nL 262.056019 134.087686 \r\nL 262.232257 134.893177 \r\nL 262.408496 137.147969 \r\nL 262.584734 141.232325 \r\nL 263.289687 139.24532 \r\nL 263.465926 136.469701 \r\nL 263.818402 139.841349 \r\nL 264.347117 137.070656 \r\nL 264.523356 141.38485 \r\nL 264.875833 139.303663 \r\nL 265.052071 137.64841 \r\nL 265.580786 138.684434 \r\nL 265.757024 137.12688 \r\nL 265.933263 138.453892 \r\nL 266.109501 142.322471 \r\nL 266.285739 140.969453 \r\nL 266.814454 141.464274 \r\nL 266.990693 141.294177 \r\nL 267.166931 139.737327 \r\nL 267.343169 140.447923 \r\nL 267.519408 139.495545 \r\nL 268.224361 138.737853 \r\nL 268.4006 135.91936 \r\nL 268.576838 136.426124 \r\nL 268.753076 136.577946 \r\nL 269.281791 137.337036 \r\nL 269.45803 137.165541 \r\nL 269.634268 135.720444 \r\nL 269.810506 136.016356 \r\nL 269.986745 138.230385 \r\nL 270.51546 137.196463 \r\nL 270.691698 137.554228 \r\nL 270.867937 137.270267 \r\nL 271.044175 139.191902 \r\nL 271.220413 139.81464 \r\nL 271.749128 142.885468 \r\nL 271.925367 141.007411 \r\nL 272.277843 144.021302 \r\nL 272.454082 143.286098 \r\nL 272.982797 143.304373 \r\nL 273.159035 144.880203 \r\nL 273.511512 143.023227 \r\nL 273.68775 143.51453 \r\nL 274.216465 145.422814 \r\nL 274.392704 144.264491 \r\nL 274.568942 144.386086 \r\nL 274.921419 143.249548 \r\nL 275.80261 139.66142 \r\nL 275.978849 141.767908 \r\nL 276.155087 139.789338 \r\nL 276.860041 141.44037 \r\nL 277.036279 140.132337 \r\nL 277.212517 141.499417 \r\nL 277.388756 140.392403 \r\nL 277.917471 141.402421 \r\nL 278.093709 140.187866 \r\nL 278.269947 140.421918 \r\nL 278.622424 138.453892 \r\nL 279.151139 138.661243 \r\nL 279.679854 139.773877 \r\nL 279.856093 140.774054 \r\nL 280.384808 140.327736 \r\nL 280.561046 142.077171 \r\nL 280.737284 141.972445 \r\nL 280.913523 143.034475 \r\nL 281.089761 142.117935 \r\nL 281.618476 142.099659 \r\nL 281.970953 143.370447 \r\nL 282.147191 142.596591 \r\nL 282.32343 140.620131 \r\nL 282.852145 138.996511 \r\nL 283.028383 137.480424 \r\nL 283.204621 138.725197 \r\nL 283.557098 140.074706 \r\nL 284.085813 140.892843 \r\nL 284.262051 141.544402 \r\nL 284.43829 142.964892 \r\nL 284.614528 142.183305 \r\nL 284.790766 142.330202 \r\nL 285.319482 143.054157 \r\nL 285.671958 141.569704 \r\nL 285.848197 141.52683 \r\nL 286.55315 139.437905 \r\nL 286.729388 139.903906 \r\nL 286.905627 139.324041 \r\nL 287.081865 139.7303 \r\nL 287.258103 139.273436 \r\nL 287.786818 139.539826 \r\nL 287.963057 133.947817 \r\nL 288.315534 133.875419 \r\nL 288.491772 135.485689 \r\nL 289.020487 135.41892 \r\nL 289.196725 131.892636 \r\nL 289.549202 133.512043 \r\nL 289.72544 131.55034 \r\nL 290.254155 131.270601 \r\nL 290.430394 132.31717 \r\nL 290.606632 131.678962 \r\nL 290.78287 132.936391 \r\nL 290.959109 132.364257 \r\nL 291.664062 134.422251 \r\nL 291.840301 133.303294 \r\nL 292.016539 134.232481 \r\nL 292.192777 132.315059 \r\nL 292.897731 132.634163 \r\nL 293.073969 132.836589 \r\nL 293.426446 136.789509 \r\nL 294.307638 133.813567 \r\nL 294.483876 124.111205 \r\nL 294.660114 124.428902 \r\nL 295.188829 121.232971 \r\nL 295.365068 121.921775 \r\nL 295.541306 121.193606 \r\nL 295.717544 119.151776 \r\nL 295.893783 115.312025 \r\nL 296.598736 113.478241 \r\nL 296.951213 115.244536 \r\nL 297.127451 113.782587 \r\nL 297.832405 112.759913 \r\nL 298.008643 113.963212 \r\nL 298.36112 124.071137 \r\nL 298.889835 126.640117 \r\nL 299.066073 126.158655 \r\nL 299.242311 132.856263 \r\nL 299.41855 132.894924 \r\nL 299.594788 127.960806 \r\nL 300.123503 131.12089 \r\nL 300.299742 126.422934 \r\nL 300.828457 138.738556 \r\nL 301.357172 132.327715 \r\nL 301.53341 137.315252 \r\nL 301.709648 147.454099 \r\nL 301.885887 139.83573 \r\nL 302.062125 146.572702 \r\nL 302.943317 133.093129 \r\nL 303.119555 135.541921 \r\nL 303.295794 131.553858 \r\nL 303.824509 128.934274 \r\nL 304.000747 132.748027 \r\nL 304.176985 127.852562 \r\nL 304.353224 131.745739 \r\nL 304.529462 127.257939 \r\nL 305.058177 128.258117 \r\nL 305.234415 131.211563 \r\nL 305.410654 130.429272 \r\nL 305.586892 131.28958 \r\nL 305.763131 124.893496 \r\nL 306.291846 123.908779 \r\nL 306.468084 121.701777 \r\nL 306.644322 121.718645 \r\nL 306.820561 112.85479 \r\nL 307.701752 103.098315 \r\nL 307.877991 96.033805 \r\nL 308.054229 98.366614 \r\nL 308.230467 97.058572 \r\nL 308.759183 101.661643 \r\nL 309.111659 96.648109 \r\nL 309.287898 95.891121 \r\nL 309.464136 98.296327 \r\nL 309.992851 102.64847 \r\nL 310.169089 98.527573 \r\nL 310.345328 91.408237 \r\nL 310.521566 104.61931 \r\nL 310.697804 102.514229 \r\nL 311.226519 102.387006 \r\nL 311.578996 98.886025 \r\nL 311.755235 98.042585 \r\nL 311.931473 95.976868 \r\nL 312.460188 99.635291 \r\nL 312.636426 98.864249 \r\nL 313.165141 94.76372 \r\nL 313.693856 93.142203 \r\nL 313.870095 89.725579 \r\nL 314.046333 93.324251 \r\nL 314.39881 95.072975 \r\nL 315.103763 95.879177 \r\nL 315.280002 96.532126 \r\nL 315.632478 91.616283 \r\nL 316.161193 91.519999 \r\nL 316.337432 91.098983 \r\nL 316.51367 92.350071 \r\nL 316.689908 90.775657 \r\nL 316.866147 87.889684 \r\nL 317.394862 82.491667 \r\nL 317.5711 79.217023 \r\nL 317.747339 85.506974 \r\nL 317.923577 86.416479 \r\nL 318.099815 84.472356 \r\nL 318.62853 81.478842 \r\nL 318.981007 78.758049 \r\nL 319.157245 77.279919 \r\nL 319.333484 74.552091 \r\nL 319.862199 70.996301 \r\nL 320.038437 73.105604 \r\nL 320.214676 71.687207 \r\nL 320.390914 76.024592 \r\nL 320.567152 76.902489 \r\nL 321.095867 71.389192 \r\nL 321.272106 62.963238 \r\nL 321.448344 62.147907 \r\nL 321.624582 50.428313 \r\nL 322.329536 54.429023 \r\nL 322.858251 40.380139 \r\nL 323.034489 47.127656 \r\nL 323.563204 48.533389 \r\nL 323.739443 53.814015 \r\nL 323.915681 54.444502 \r\nL 324.091919 57.110469 \r\nL 324.268158 40.602238 \r\nL 324.796873 44.717524 \r\nL 324.973111 47.415134 \r\nL 325.149349 55.382818 \r\nL 325.325588 53.811218 \r\nL 325.501826 50.556944 \r\nL 326.030541 54.414266 \r\nL 326.383018 50.791004 \r\nL 326.559256 42.862667 \r\nL 326.735495 46.573102 \r\nL 327.26421 44.679567 \r\nL 327.440448 40.026595 \r\nL 327.616686 38.622973 \r\nL 327.792925 42.667269 \r\nL 328.497878 48.767448 \r\nL 328.674116 43.034163 \r\nL 328.850355 43.11991 \r\nL 329.026593 44.033637 \r\nL 329.202832 41.616487 \r\nL 329.731547 32.473596 \r\nL 329.907785 36.129204 \r\nL 330.084023 33.536321 \r\nL 330.260262 34.425457 \r\nL 330.4365 32.827139 \r\nL 330.965215 30.08385 \r\nL 331.141453 23.381309 \r\nL 331.317692 26.322811 \r\nL 331.49393 26.196292 \r\nL 331.670168 22.741007 \r\nL 332.198884 19.355992 \r\nL 332.375122 17.083636 \r\nL 332.727599 33.729609 \r\nL 332.903837 43.90571 \r\nL 333.60879 35.557765 \r\nL 333.961267 46.268755 \r\nL 334.137505 47.200053 \r\nL 334.66622 43.463622 \r\nL 335.194936 57.606697 \r\nL 335.371174 57.215899 \r\nL 335.899889 45.371193 \r\nL 336.076127 54.447299 \r\nL 336.252366 53.046491 \r\nL 336.604842 42.204073 \r\nL 337.133557 44.254346 \r\nL 337.309796 43.983736 \r\nL 337.486034 38.885844 \r\nL 337.662272 45.651636 \r\nL 337.838511 40.436371 \r\nL 338.367226 47.411617 \r\nL 338.543464 40.683078 \r\nL 338.719703 41.044344 \r\nL 339.072179 23.305411 \r\nL 339.600894 23.256214 \r\nL 339.777133 28.873516 \r\nL 339.953371 30.634903 \r\nL 340.305848 39.873375 \r\nL 340.834563 39.184562 \r\nL 341.010801 41.43866 \r\nL 341.18704 42.03891 \r\nL 341.363278 40.070884 \r\nL 341.539516 39.885318 \r\nL 342.068231 34.312288 \r\nL 342.24447 42.996205 \r\nL 342.420708 39.606282 \r\nL 342.596946 51.896611 \r\nL 342.773185 54.122583 \r\nL 343.3019 51.034896 \r\nL 343.654377 31.805169 \r\nL 343.830615 32.552308 \r\nL 344.006853 44.334466 \r\nL 344.535568 51.976027 \r\nL 344.711807 44.780793 \r\nL 344.888045 46.686254 \r\nL 345.064283 45.38384 \r\nL 345.240522 45.225695 \r\nL 345.769237 44.902387 \r\nL 345.945475 47.02504 \r\nL 346.121713 46.212522 \r\nL 346.297952 47.450981 \r\nL 346.47419 47.521971 \r\nL 347.002905 46.139422 \r\nL 347.179144 41.429513 \r\nL 347.355382 40.707668 \r\nL 347.707859 42.626497 \r\nL 348.236574 38.968777 \r\nL 348.941527 43.332177 \r\nL 349.470242 41.976345 \r\nL 349.646481 47.113602 \r\nL 349.822719 47.304076 \r\nL 349.998957 46.254701 \r\nL 350.175196 43.404575 \r\nL 350.703911 42.831728 \r\nL 350.880149 37.501201 \r\nL 351.056387 37.844191 \r\nL 351.232626 40.264173 \r\nL 351.408864 39.945772 \r\nL 351.937579 39.921868 \r\nL 352.290056 42.299671 \r\nL 352.466294 34.478875 \r\nL 353.171248 31.805169 \r\nL 353.523724 36.378725 \r\nL 353.699963 41.319879 \r\nL 354.404916 39.079132 \r\nL 354.581154 44.711209 \r\nL 354.933631 41.596101 \r\nL 355.109869 46.410032 \r\nL 355.638585 45.944726 \r\nL 355.814823 42.777623 \r\nL 356.1673 47.110084 \r\nL 356.343538 45.949651 \r\nL 357.22473 32.860172 \r\nL 357.400968 33.897604 \r\nL 357.577206 33.773195 \r\nL 358.105921 31.514893 \r\nL 358.28216 38.090195 \r\nL 358.458398 37.735947 \r\nL 358.634637 39.944365 \r\nL 358.810875 30.337592 \r\nL 359.33959 27.728544 \r\nL 359.515828 32.470781 \r\nL 359.868305 29.686034 \r\nL 360.044543 31.739104 \r\nL 360.573258 33.000042 \r\nL 360.925735 36.013238 \r\nL 361.101974 34.918167 \r\nL 361.278212 35.533878 \r\nL 361.983165 32.744206 \r\nL 362.159404 31.367285 \r\nL 362.51188 41.73386 \r\nL 363.040595 40.766715 \r\nL 363.216834 43.224637 \r\nL 363.393072 50.419888 \r\nL 363.745549 44.165784 \r\nL 364.274264 47.793268 \r\nL 364.450502 54.086033 \r\nL 364.626741 56.01399 \r\nL 364.802979 54.405137 \r\nL 364.979217 57.814742 \r\nL 365.507932 50.019944 \r\nL 365.684171 50.386152 \r\nL 365.860409 46.453601 \r\nL 366.036647 48.147516 \r\nL 366.212886 48.696458 \r\nL 366.741601 47.980928 \r\nL 366.917839 44.897462 \r\nL 367.094078 52.470144 \r\nL 367.446554 46.644778 \r\nL 367.975269 44.773053 \r\nL 368.327746 51.186005 \r\nL 368.503984 50.78045 \r\nL 368.680223 49.11466 \r\nL 369.208938 50.551315 \r\nL 369.385176 47.824894 \r\nL 369.737653 38.501378 \r\nL 370.442606 38.705906 \r\nL 370.618845 34.80009 \r\nL 370.795083 33.400672 \r\nL 370.971321 28.276783 \r\nL 371.676275 26.322811 \r\nL 371.852513 31.032016 \r\nL 372.20499 26.362176 \r\nL 372.381228 28.290134 \r\nL 372.909943 30.913236 \r\nL 372.909943 30.913236 \r\n\" style=\"fill:none;stroke:#0000ff;stroke-linecap:square;stroke-width:1.5;\"/>\r\n   </g>\r\n   <g id=\"line2d_13\">\r\n    <path clip-path=\"url(#p45dbed17fb)\" d=\"M 68.546307 213.006203 \r\nL 68.722545 212.968353 \r\nL 68.898784 212.729218 \r\nL 69.427499 212.413404 \r\nL 69.779975 212.001955 \r\nL 71.189882 211.209227 \r\nL 71.36612 211.10314 \r\nL 72.071074 211.037088 \r\nL 73.833457 211.667758 \r\nL 74.538411 211.41499 \r\nL 75.067126 211.107404 \r\nL 75.772079 210.906441 \r\nL 76.124556 210.403959 \r\nL 76.300794 210.398172 \r\nL 76.829509 210.552533 \r\nL 77.358224 211.125345 \r\nL 78.063178 211.001992 \r\nL 78.415655 210.645046 \r\nL 78.768131 209.805141 \r\nL 79.296846 209.43829 \r\nL 79.649323 208.587969 \r\nL 80.0018 207.537213 \r\nL 80.530515 207.091628 \r\nL 81.05923 206.191922 \r\nL 81.235468 206.015754 \r\nL 81.940422 205.910668 \r\nL 82.292898 206.172754 \r\nL 82.469137 206.349015 \r\nL 82.997852 206.642165 \r\nL 83.702805 207.604896 \r\nL 84.23152 207.544116 \r\nL 84.583997 207.149118 \r\nL 84.760235 207.086 \r\nL 84.936474 207.582524 \r\nL 85.465189 208.174014 \r\nL 86.170142 210.406469 \r\nL 87.227572 211.056792 \r\nL 87.403811 211.570548 \r\nL 87.932526 212.184625 \r\nL 88.285002 212.947306 \r\nL 88.461241 212.974766 \r\nL 88.637479 212.784232 \r\nL 89.166194 212.390208 \r\nL 89.518671 211.31666 \r\nL 89.871148 210.901517 \r\nL 90.576101 210.731089 \r\nL 90.752339 210.918084 \r\nL 91.104816 211.710881 \r\nL 91.809769 212.032036 \r\nL 92.162246 211.757766 \r\nL 92.338485 211.577219 \r\nL 93.043438 211.363579 \r\nL 93.395915 211.181646 \r\nL 93.572153 211.248128 \r\nL 94.277106 211.292177 \r\nL 94.629583 211.215237 \r\nL 94.805821 211.258814 \r\nL 95.687013 211.165623 \r\nL 95.863252 211.120862 \r\nL 96.03949 211.222723 \r\nL 96.744443 211.411554 \r\nL 96.920682 211.576696 \r\nL 97.09692 211.539317 \r\nL 97.273158 211.210248 \r\nL 97.801873 210.717722 \r\nL 98.506827 208.974601 \r\nL 99.21178 208.604335 \r\nL 99.564257 208.231495 \r\nL 99.740495 208.126413 \r\nL 100.26921 208.04891 \r\nL 100.621687 207.614201 \r\nL 100.974164 206.923466 \r\nL 102.031594 206.638527 \r\nL 102.207832 206.842652 \r\nL 102.736547 207.169959 \r\nL 103.089024 207.633913 \r\nL 103.441501 207.589615 \r\nL 103.970216 207.366027 \r\nL 104.675169 206.299672 \r\nL 105.380123 205.98974 \r\nL 105.732599 205.411381 \r\nL 105.908838 205.351416 \r\nL 108.376175 205.314866 \r\nL 110.314797 205.114495 \r\nL 110.843512 205.375534 \r\nL 111.548465 205.465709 \r\nL 111.900942 204.854159 \r\nL 112.07718 204.385074 \r\nL 112.605895 203.86843 \r\nL 113.310849 201.882429 \r\nL 114.19204 201.536406 \r\nL 114.368279 201.684915 \r\nL 115.24947 201.816505 \r\nL 115.778186 201.723418 \r\nL 116.483139 201.546448 \r\nL 116.835616 201.226662 \r\nL 117.011854 200.799855 \r\nL 117.540569 200.308221 \r\nL 117.893046 199.391256 \r\nL 118.245522 199.016327 \r\nL 118.774238 198.889194 \r\nL 119.302953 198.416728 \r\nL 119.479191 198.252869 \r\nL 120.007906 198.066655 \r\nL 120.360383 197.785431 \r\nL 120.712859 197.719383 \r\nL 121.241574 197.565314 \r\nL 121.594051 197.079995 \r\nL 121.946528 196.237778 \r\nL 122.651481 195.812142 \r\nL 123.180196 195.02197 \r\nL 123.708911 194.74891 \r\nL 124.237627 194.201739 \r\nL 124.94258 194.946823 \r\nL 125.471295 196.165248 \r\nL 125.647533 196.229636 \r\nL 126.176248 195.964444 \r\nL 126.881202 194.977385 \r\nL 127.409917 194.827048 \r\nL 127.762394 195.109975 \r\nL 128.11487 195.699938 \r\nL 128.996062 196.454155 \r\nL 129.348539 196.819299 \r\nL 129.877254 196.624093 \r\nL 130.229731 195.893943 \r\nL 130.582207 195.162531 \r\nL 131.110922 194.842341 \r\nL 131.815876 193.340496 \r\nL 132.344591 193.028437 \r\nL 133.049544 191.879972 \r\nL 133.578259 192.315626 \r\nL 134.283213 194.576948 \r\nL 134.988166 195.170253 \r\nL 135.340643 195.820563 \r\nL 135.516881 196.260352 \r\nL 136.221835 196.404833 \r\nL 136.398073 196.363585 \r\nL 136.574311 196.446956 \r\nL 136.75055 196.674255 \r\nL 137.455503 197.207415 \r\nL 137.984218 197.78151 \r\nL 138.86541 198.119186 \r\nL 139.217887 197.389001 \r\nL 140.099078 196.992223 \r\nL 140.451555 196.72462 \r\nL 140.98027 196.610086 \r\nL 141.332747 196.19747 \r\nL 141.685223 195.687956 \r\nL 142.213939 195.640758 \r\nL 142.566415 195.98999 \r\nL 143.976322 198.121395 \r\nL 144.857514 197.923032 \r\nL 145.033752 197.828009 \r\nL 146.443659 195.516761 \r\nL 146.619897 195.161016 \r\nL 147.148612 194.843598 \r\nL 147.501089 194.400931 \r\nL 148.382281 195.080691 \r\nL 148.910996 196.07748 \r\nL 149.087234 195.030194 \r\nL 149.615949 193.292561 \r\nL 150.144664 189.044329 \r\nL 150.320903 188.316126 \r\nL 150.849618 187.655953 \r\nL 151.378333 186.130882 \r\nL 151.554571 185.866467 \r\nL 152.435763 185.455214 \r\nL 152.78824 185.306696 \r\nL 153.493193 185.289665 \r\nL 154.021908 184.531132 \r\nL 154.550623 183.624725 \r\nL 154.9031 182.278296 \r\nL 155.079338 182.116016 \r\nL 155.255577 182.160571 \r\nL 155.784292 182.453309 \r\nL 156.136768 183.433461 \r\nL 156.313007 183.653107 \r\nL 157.01796 183.549118 \r\nL 158.251629 182.546847 \r\nL 158.604105 181.980445 \r\nL 158.780344 181.937639 \r\nL 158.956582 182.02748 \r\nL 159.837774 182.159301 \r\nL 160.190251 182.031178 \r\nL 160.895204 182.0073 \r\nL 161.071442 181.793677 \r\nL 162.128872 179.1558 \r\nL 162.657588 176.731246 \r\nL 163.362541 175.593473 \r\nL 163.715018 174.176397 \r\nL 163.891256 173.76354 \r\nL 164.419971 173.365793 \r\nL 164.948686 170.67074 \r\nL 165.124924 169.592614 \r\nL 165.65364 168.405265 \r\nL 166.358593 164.447292 \r\nL 166.887308 164.462007 \r\nL 167.063546 164.743187 \r\nL 167.239785 164.70922 \r\nL 167.416023 165.080567 \r\nL 167.592261 166.136162 \r\nL 168.297215 167.238998 \r\nL 168.473453 166.916024 \r\nL 168.82593 165.10538 \r\nL 169.530883 164.205605 \r\nL 170.059598 161.359193 \r\nL 170.588313 160.471473 \r\nL 170.94079 159.063063 \r\nL 171.117029 158.847312 \r\nL 171.293267 159.028211 \r\nL 171.821982 159.067379 \r\nL 172.174459 158.263269 \r\nL 172.526935 156.866511 \r\nL 173.05565 155.820028 \r\nL 173.408127 153.970525 \r\nL 173.584365 153.472658 \r\nL 173.760604 153.311579 \r\nL 174.289319 153.683724 \r\nL 174.641796 154.065084 \r\nL 174.818034 154.328934 \r\nL 174.994272 155.061907 \r\nL 175.522987 155.679909 \r\nL 175.699226 156.20995 \r\nL 176.051702 159.702386 \r\nL 176.756656 161.775182 \r\nL 177.109133 165.141982 \r\nL 177.461609 165.713344 \r\nL 177.990324 165.764128 \r\nL 178.342801 165.310131 \r\nL 178.695278 164.528158 \r\nL 179.223993 164.230932 \r\nL 179.400231 163.510692 \r\nL 179.928946 159.273717 \r\nL 180.6339 158.116441 \r\nL 180.986376 159.097975 \r\nL 181.162615 158.089595 \r\nL 181.69133 156.988921 \r\nL 182.043806 155.344769 \r\nL 182.396283 154.637836 \r\nL 182.924998 154.160175 \r\nL 183.629952 152.468182 \r\nL 184.158667 152.23945 \r\nL 184.511143 152.628618 \r\nL 184.86362 153.176806 \r\nL 185.744812 153.50757 \r\nL 186.802242 152.723941 \r\nL 187.330957 151.225391 \r\nL 187.859672 150.507561 \r\nL 188.564626 146.940377 \r\nL 189.093341 146.577858 \r\nL 189.622056 145.416645 \r\nL 189.798294 145.022535 \r\nL 190.327009 144.720282 \r\nL 190.503247 144.445682 \r\nL 190.855724 143.403566 \r\nL 191.031962 143.180162 \r\nL 191.560678 143.678904 \r\nL 192.089393 145.532216 \r\nL 192.265631 145.650447 \r\nL 192.794346 145.70686 \r\nL 192.970584 145.596188 \r\nL 193.499299 145.459407 \r\nL 194.028014 145.07809 \r\nL 194.380491 143.870081 \r\nL 194.732968 141.661295 \r\nL 195.261683 140.279354 \r\nL 195.790398 137.115503 \r\nL 195.966636 136.737257 \r\nL 196.67159 136.74806 \r\nL 197.024066 136.36374 \r\nL 197.200305 136.133489 \r\nL 197.72902 136.398686 \r\nL 198.081497 137.760369 \r\nL 198.257735 138.019877 \r\nL 198.962688 137.484508 \r\nL 199.315165 135.944148 \r\nL 199.667642 134.000334 \r\nL 200.196357 133.138276 \r\nL 200.548834 131.817141 \r\nL 200.725072 131.586736 \r\nL 201.782502 132.142217 \r\nL 202.663694 131.314324 \r\nL 202.839932 130.757231 \r\nL 203.192409 128.407905 \r\nL 203.368647 127.023811 \r\nL 204.073601 125.606358 \r\nL 204.249839 124.599359 \r\nL 204.426077 124.371923 \r\nL 204.602316 124.821519 \r\nL 205.131031 125.462524 \r\nL 205.307269 126.061145 \r\nL 205.483507 126.196853 \r\nL 205.835984 125.949022 \r\nL 206.364699 126.519406 \r\nL 206.893414 128.27894 \r\nL 207.069653 128.609816 \r\nL 207.598368 129.110685 \r\nL 207.774606 129.058451 \r\nL 207.950844 128.588975 \r\nL 208.303321 126.696401 \r\nL 209.184513 125.250008 \r\nL 209.360751 125.947006 \r\nL 209.53699 127.143252 \r\nL 210.065705 128.738909 \r\nL 210.418181 132.198029 \r\nL 210.770658 137.002111 \r\nL 211.475611 139.236208 \r\nL 211.828088 139.086823 \r\nL 212.004327 139.27692 \r\nL 212.533042 139.437287 \r\nL 212.70928 139.942017 \r\nL 213.76671 145.474061 \r\nL 214.119187 150.941447 \r\nL 214.295425 151.75532 \r\nL 214.471663 151.462205 \r\nL 215.000379 151.168703 \r\nL 215.176617 150.906999 \r\nL 215.529094 147.950438 \r\nL 215.705332 146.499884 \r\nL 216.234047 146.058139 \r\nL 216.410285 146.406363 \r\nL 216.762762 148.434122 \r\nL 216.939 149.724893 \r\nL 217.467715 151.400129 \r\nL 217.820192 155.438711 \r\nL 218.172669 156.7078 \r\nL 218.701384 157.09913 \r\nL 218.877622 156.807739 \r\nL 219.230099 153.609302 \r\nL 219.406337 151.653125 \r\nL 219.935052 149.040413 \r\nL 220.111291 147.127376 \r\nL 220.640006 146.309719 \r\nL 221.168721 146.867216 \r\nL 221.521198 147.517736 \r\nL 221.697436 147.604934 \r\nL 222.402389 149.919511 \r\nL 222.931104 155.568353 \r\nL 223.107343 158.089749 \r\nL 224.164773 164.273823 \r\nL 224.341011 164.247372 \r\nL 224.869726 163.471833 \r\nL 225.222203 162.477344 \r\nL 225.57468 160.042228 \r\nL 226.103395 158.021161 \r\nL 226.63211 151.647531 \r\nL 226.808348 150.473911 \r\nL 227.337063 150.00845 \r\nL 227.68954 148.745067 \r\nL 228.042017 147.100272 \r\nL 228.74697 146.976627 \r\nL 229.275685 147.832336 \r\nL 229.8044 148.21893 \r\nL 230.156877 149.269892 \r\nL 230.333115 148.703274 \r\nL 230.509354 148.626124 \r\nL 231.390545 148.955232 \r\nL 231.566784 149.363267 \r\nL 231.743022 150.253656 \r\nL 232.447976 151.39686 \r\nL 232.800452 151.10063 \r\nL 233.857882 151.085427 \r\nL 234.210359 151.021009 \r\nL 234.915312 150.582043 \r\nL 235.267789 150.238692 \r\nL 235.444028 149.778835 \r\nL 235.972743 148.954709 \r\nL 236.325219 147.389158 \r\nL 236.501458 147.398261 \r\nL 236.677696 148.108369 \r\nL 237.206411 148.539964 \r\nL 237.382649 148.530114 \r\nL 237.735126 147.641699 \r\nL 237.911364 146.97552 \r\nL 238.44008 146.080009 \r\nL 239.145033 140.727663 \r\nL 239.673748 140.208278 \r\nL 239.849986 139.774649 \r\nL 240.026225 139.662184 \r\nL 240.378701 139.709193 \r\nL 240.907416 139.384881 \r\nL 241.61237 137.422689 \r\nL 242.141085 136.892142 \r\nL 242.6698 135.734798 \r\nL 242.846038 135.496619 \r\nL 243.374753 135.415728 \r\nL 243.72723 134.825902 \r\nL 243.903468 134.501616 \r\nL 244.608422 134.193065 \r\nL 245.313375 131.209469 \r\nL 245.84209 130.375999 \r\nL 246.194567 129.622863 \r\nL 246.370805 129.737551 \r\nL 246.547044 129.437889 \r\nL 247.251997 129.156219 \r\nL 247.428236 129.259238 \r\nL 248.309427 131.567878 \r\nL 248.661904 133.735335 \r\nL 248.838142 133.79784 \r\nL 249.014381 133.64824 \r\nL 249.719334 133.88218 \r\nL 249.895572 134.024264 \r\nL 250.248049 135.080579 \r\nL 250.953003 135.465491 \r\nL 251.481718 137.050459 \r\nL 252.010433 138.51275 \r\nL 252.362909 141.352735 \r\nL 252.539148 142.05948 \r\nL 252.715386 142.000664 \r\nL 253.244101 140.891428 \r\nL 253.772816 136.370852 \r\nL 253.949055 135.342172 \r\nL 254.47777 134.417481 \r\nL 255.182723 131.065455 \r\nL 255.887677 130.681084 \r\nL 256.416392 131.037236 \r\nL 256.945107 130.885414 \r\nL 257.65006 129.826799 \r\nL 258.178775 129.41964 \r\nL 258.355013 128.783182 \r\nL 258.883729 125.514433 \r\nL 259.412444 124.695772 \r\nL 259.76492 123.915926 \r\nL 260.117397 124.560527 \r\nL 261.174827 125.383555 \r\nL 261.351065 125.958855 \r\nL 261.879781 126.925485 \r\nL 262.584734 132.306582 \r\nL 263.113449 134.381471 \r\nL 263.465926 137.629028 \r\nL 263.642164 138.236348 \r\nL 263.818402 138.399409 \r\nL 264.523356 138.721568 \r\nL 265.052071 139.432602 \r\nL 265.580786 139.130083 \r\nL 266.109501 138.029804 \r\nL 266.814454 138.819044 \r\nL 267.166931 139.9681 \r\nL 267.343169 140.135589 \r\nL 268.224361 140.054011 \r\nL 268.4006 139.740329 \r\nL 268.753076 138.247159 \r\nL 269.810506 136.577817 \r\nL 269.986745 136.252973 \r\nL 270.51546 136.29166 \r\nL 271.749128 137.607715 \r\nL 272.454082 140.983739 \r\nL 272.982797 141.799963 \r\nL 273.68775 143.64195 \r\nL 274.216465 143.676184 \r\nL 274.568942 143.939759 \r\nL 274.74518 143.967969 \r\nL 274.921419 143.804162 \r\nL 275.450134 143.638149 \r\nL 275.80261 142.508063 \r\nL 276.155087 141.03877 \r\nL 276.683802 140.60521 \r\nL 276.860041 140.314463 \r\nL 277.212517 140.293905 \r\nL 277.388756 140.761099 \r\nL 278.093709 141.04143 \r\nL 278.269947 140.969839 \r\nL 279.151139 139.858518 \r\nL 279.503616 138.992187 \r\nL 279.679854 138.793631 \r\nL 279.856093 138.814171 \r\nL 280.384808 139.04697 \r\nL 280.737284 139.693886 \r\nL 281.089761 140.690778 \r\nL 281.794714 141.532218 \r\nL 282.32343 142.274835 \r\nL 282.852145 142.159822 \r\nL 283.028383 141.64265 \r\nL 283.204621 140.776096 \r\nL 283.557098 139.891362 \r\nL 284.085813 139.392474 \r\nL 284.262051 139.433649 \r\nL 284.43829 139.607761 \r\nL 284.790766 140.533336 \r\nL 285.319482 140.943902 \r\nL 285.671958 141.721972 \r\nL 285.848197 141.860975 \r\nL 286.55315 141.623775 \r\nL 287.258103 139.862319 \r\nL 287.963057 139.331874 \r\nL 288.315534 138.661509 \r\nL 288.491772 137.399961 \r\nL 289.020487 136.303663 \r\nL 289.196725 135.651229 \r\nL 289.72544 134.201902 \r\nL 290.254155 133.64945 \r\nL 290.78287 131.931863 \r\nL 290.959109 131.685165 \r\nL 291.487824 131.625775 \r\nL 291.664062 131.834507 \r\nL 292.192777 132.755586 \r\nL 292.897731 132.900501 \r\nL 293.250207 132.752704 \r\nL 293.426446 132.815483 \r\nL 293.955161 133.472249 \r\nL 294.307638 134.305693 \r\nL 294.483876 134.385761 \r\nL 294.660114 132.467524 \r\nL 295.188829 130.158353 \r\nL 295.717544 123.888428 \r\nL 295.893783 122.466084 \r\nL 296.422498 120.852452 \r\nL 296.951213 115.643948 \r\nL 297.127451 114.780191 \r\nL 297.832405 114.297777 \r\nL 298.184881 113.409224 \r\nL 298.36112 113.699191 \r\nL 298.889835 115.453045 \r\nL 299.41855 122.693967 \r\nL 299.594788 125.912343 \r\nL 300.47598 129.375625 \r\nL 300.652218 129.565901 \r\nL 301.53341 132.884705 \r\nL 301.709648 133.871653 \r\nL 302.062125 138.114325 \r\nL 302.767079 141.402061 \r\nL 302.943317 141.478328 \r\nL 303.295794 138.362868 \r\nL 303.824509 136.868539 \r\nL 304.353224 132.064861 \r\nL 304.529462 131.165197 \r\nL 305.058177 130.281809 \r\nL 305.234415 129.334304 \r\nL 305.410654 129.009125 \r\nL 305.586892 129.119308 \r\nL 305.763131 129.418867 \r\nL 306.291846 129.092359 \r\nL 306.820561 125.136805 \r\nL 307.525514 123.129706 \r\nL 308.054229 110.826482 \r\nL 308.230467 106.713409 \r\nL 308.759183 103.139653 \r\nL 309.111659 99.377585 \r\nL 309.464136 97.224559 \r\nL 309.992851 96.567338 \r\nL 310.169089 96.90609 \r\nL 310.345328 97.506872 \r\nL 310.521566 97.112849 \r\nL 310.697804 97.870163 \r\nL 311.226519 99.23835 \r\nL 311.578996 100.752104 \r\nL 311.755235 100.731804 \r\nL 311.931473 100.381658 \r\nL 312.460188 99.715771 \r\nL 312.812665 98.818346 \r\nL 313.693856 97.865101 \r\nL 314.046333 95.472266 \r\nL 314.39881 93.467021 \r\nL 315.103763 93.238555 \r\nL 315.632478 94.86486 \r\nL 316.161193 94.647548 \r\nL 316.866147 92.612479 \r\nL 317.394862 91.86951 \r\nL 317.5711 90.399205 \r\nL 317.923577 86.023553 \r\nL 318.099815 85.057729 \r\nL 318.62853 84.832507 \r\nL 318.804769 84.284062 \r\nL 319.333484 81.003447 \r\nL 319.862199 79.67423 \r\nL 320.390914 74.928114 \r\nL 320.567152 74.150328 \r\nL 321.272106 74.450007 \r\nL 321.448344 73.339149 \r\nL 321.624582 70.96265 \r\nL 322.329536 67.422527 \r\nL 323.034489 52.120427 \r\nL 323.739443 47.64801 \r\nL 323.915681 47.9063 \r\nL 324.268158 51.154569 \r\nL 324.796873 51.482459 \r\nL 325.149349 49.425751 \r\nL 325.325588 49.657048 \r\nL 325.501826 51.112064 \r\nL 326.030541 51.822446 \r\nL 326.383018 52.943755 \r\nL 326.559256 53.188265 \r\nL 326.735495 51.481103 \r\nL 327.26421 49.855175 \r\nL 327.969163 44.639722 \r\nL 328.497878 44.233343 \r\nL 328.850355 45.175812 \r\nL 329.731547 44.784259 \r\nL 330.260262 40.289964 \r\nL 330.4365 38.883493 \r\nL 330.965215 37.520368 \r\nL 331.317692 34.556318 \r\nL 331.670168 30.871709 \r\nL 332.198884 29.300813 \r\nL 332.727599 24.832017 \r\nL 332.903837 26.517816 \r\nL 333.60879 30.104716 \r\nL 334.137505 37.990565 \r\nL 334.66622 40.530836 \r\nL 335.371174 49.762049 \r\nL 336.076127 53.930599 \r\nL 336.252366 54.119597 \r\nL 336.428604 54.476436 \r\nL 336.604842 54.187945 \r\nL 337.133557 52.647319 \r\nL 337.838511 45.976832 \r\nL 338.543464 45.003047 \r\nL 338.719703 44.806772 \r\nL 338.895941 44.185913 \r\nL 339.600894 40.07502 \r\nL 339.953371 33.304509 \r\nL 340.129609 32.125045 \r\nL 340.305848 32.074458 \r\nL 340.834563 33.010664 \r\nL 341.539516 40.176057 \r\nL 342.068231 41.117599 \r\nL 342.24447 41.12098 \r\nL 342.596946 41.383834 \r\nL 342.773185 42.78471 \r\nL 343.3019 45.265043 \r\nL 343.478138 47.727632 \r\nL 343.654377 47.943588 \r\nL 344.006853 43.250033 \r\nL 344.535568 42.102951 \r\nL 345.240522 46.220845 \r\nL 345.769237 46.893733 \r\nL 345.945475 46.861679 \r\nL 346.121713 46.982947 \r\nL 346.47419 47.580332 \r\nL 347.179144 48.090785 \r\nL 347.707859 46.450237 \r\nL 348.236574 45.458005 \r\nL 348.765289 42.883105 \r\nL 348.941527 42.698808 \r\nL 349.470242 42.961285 \r\nL 349.646481 43.35325 \r\nL 349.998957 45.124675 \r\nL 350.175196 46.188207 \r\nL 350.703911 46.502558 \r\nL 350.880149 46.309819 \r\nL 351.232626 44.109243 \r\nL 351.408864 43.026338 \r\nL 352.290056 41.936294 \r\nL 352.466294 42.082445 \r\nL 353.171248 41.704139 \r\nL 353.699963 37.918442 \r\nL 354.404916 38.028024 \r\nL 354.581154 38.790418 \r\nL 355.109869 42.350275 \r\nL 355.638585 43.495127 \r\nL 355.991061 45.367264 \r\nL 356.343538 46.276305 \r\nL 357.048491 46.783087 \r\nL 357.22473 45.979698 \r\nL 357.577206 41.517766 \r\nL 358.105921 39.436589 \r\nL 358.458398 36.783148 \r\nL 358.634637 36.66212 \r\nL 358.810875 37.308616 \r\nL 359.33959 37.300242 \r\nL 359.868305 33.83159 \r\nL 360.044543 33.322784 \r\nL 360.573258 33.000299 \r\nL 360.749497 33.086527 \r\nL 361.101974 34.333652 \r\nL 361.278212 35.267936 \r\nL 361.983165 36.013049 \r\nL 362.159404 36.365804 \r\nL 362.51188 36.261129 \r\nL 363.040595 37.25017 \r\nL 363.745549 44.892125 \r\nL 364.274264 46.148894 \r\nL 364.626741 48.303739 \r\nL 364.979217 52.219507 \r\nL 365.684171 54.36023 \r\nL 365.860409 54.049534 \r\nL 366.212886 52.226594 \r\nL 366.741601 51.707338 \r\nL 367.270316 50.056803 \r\nL 367.446554 50.331772 \r\nL 367.975269 50.289611 \r\nL 368.327746 48.927395 \r\nL 368.503984 49.021912 \r\nL 368.680223 49.720471 \r\nL 369.208938 50.284531 \r\nL 369.385176 50.763565 \r\nL 369.561414 50.839051 \r\nL 369.737653 50.117515 \r\nL 370.442606 48.500785 \r\nL 371.14756 39.09751 \r\nL 371.676275 36.552949 \r\nL 372.028751 32.352344 \r\nL 372.381228 30.400758 \r\nL 372.909943 29.809705 \r\nL 372.909943 29.809705 \r\n\" style=\"fill:none;stroke:#ff0000;stroke-linecap:square;stroke-width:1.5;\"/>\r\n   </g>\r\n   <g id=\"patch_3\">\r\n    <path d=\"M 53.328125 224.64 \r\nL 53.328125 7.2 \r\n\" style=\"fill:none;stroke:#000000;stroke-linecap:square;stroke-linejoin:miter;stroke-width:0.8;\"/>\r\n   </g>\r\n   <g id=\"patch_4\">\r\n    <path d=\"M 388.128125 224.64 \r\nL 388.128125 7.2 \r\n\" style=\"fill:none;stroke:#000000;stroke-linecap:square;stroke-linejoin:miter;stroke-width:0.8;\"/>\r\n   </g>\r\n   <g id=\"patch_5\">\r\n    <path d=\"M 53.328125 224.64 \r\nL 388.128125 224.64 \r\n\" style=\"fill:none;stroke:#000000;stroke-linecap:square;stroke-linejoin:miter;stroke-width:0.8;\"/>\r\n   </g>\r\n   <g id=\"patch_6\">\r\n    <path d=\"M 53.328125 7.2 \r\nL 388.128125 7.2 \r\n\" style=\"fill:none;stroke:#000000;stroke-linecap:square;stroke-linejoin:miter;stroke-width:0.8;\"/>\r\n   </g>\r\n   <g id=\"legend_1\">\r\n    <g id=\"patch_7\">\r\n     <path d=\"M 60.328125 44.55625 \r\nL 166.842188 44.55625 \r\nQ 168.842188 44.55625 168.842188 42.55625 \r\nL 168.842188 14.2 \r\nQ 168.842188 12.2 166.842188 12.2 \r\nL 60.328125 12.2 \r\nQ 58.328125 12.2 58.328125 14.2 \r\nL 58.328125 42.55625 \r\nQ 58.328125 44.55625 60.328125 44.55625 \r\nz\r\n\" style=\"fill:#ffffff;opacity:0.8;stroke:#cccccc;stroke-linejoin:miter;\"/>\r\n    </g>\r\n    <g id=\"line2d_14\">\r\n     <path d=\"M 62.328125 20.298437 \r\nL 82.328125 20.298437 \r\n\" style=\"fill:none;stroke:#0000ff;stroke-linecap:square;stroke-width:1.5;\"/>\r\n    </g>\r\n    <g id=\"line2d_15\"/>\r\n    <g id=\"text_14\">\r\n     <!-- Actual Price -->\r\n     <g transform=\"translate(90.328125 23.798437)scale(0.1 -0.1)\">\r\n      <defs>\r\n       <path d=\"M 34.1875 63.1875 \r\nL 20.796875 26.90625 \r\nL 47.609375 26.90625 \r\nz\r\nM 28.609375 72.90625 \r\nL 39.796875 72.90625 \r\nL 67.578125 0 \r\nL 57.328125 0 \r\nL 50.6875 18.703125 \r\nL 17.828125 18.703125 \r\nL 11.1875 0 \r\nL 0.78125 0 \r\nz\r\n\" id=\"DejaVuSans-65\"/>\r\n       <path d=\"M 18.3125 70.21875 \r\nL 18.3125 54.6875 \r\nL 36.8125 54.6875 \r\nL 36.8125 47.703125 \r\nL 18.3125 47.703125 \r\nL 18.3125 18.015625 \r\nQ 18.3125 11.328125 20.140625 9.421875 \r\nQ 21.96875 7.515625 27.59375 7.515625 \r\nL 36.8125 7.515625 \r\nL 36.8125 0 \r\nL 27.59375 0 \r\nQ 17.1875 0 13.234375 3.875 \r\nQ 9.28125 7.765625 9.28125 18.015625 \r\nL 9.28125 47.703125 \r\nL 2.6875 47.703125 \r\nL 2.6875 54.6875 \r\nL 9.28125 54.6875 \r\nL 9.28125 70.21875 \r\nz\r\n\" id=\"DejaVuSans-116\"/>\r\n       <path d=\"M 8.5 21.578125 \r\nL 8.5 54.6875 \r\nL 17.484375 54.6875 \r\nL 17.484375 21.921875 \r\nQ 17.484375 14.15625 20.5 10.265625 \r\nQ 23.53125 6.390625 29.59375 6.390625 \r\nQ 36.859375 6.390625 41.078125 11.03125 \r\nQ 45.3125 15.671875 45.3125 23.6875 \r\nL 45.3125 54.6875 \r\nL 54.296875 54.6875 \r\nL 54.296875 0 \r\nL 45.3125 0 \r\nL 45.3125 8.40625 \r\nQ 42.046875 3.421875 37.71875 1 \r\nQ 33.40625 -1.421875 27.6875 -1.421875 \r\nQ 18.265625 -1.421875 13.375 4.4375 \r\nQ 8.5 10.296875 8.5 21.578125 \r\nz\r\nM 31.109375 56 \r\nz\r\n\" id=\"DejaVuSans-117\"/>\r\n       <path d=\"M 9.421875 75.984375 \r\nL 18.40625 75.984375 \r\nL 18.40625 0 \r\nL 9.421875 0 \r\nz\r\n\" id=\"DejaVuSans-108\"/>\r\n       <path id=\"DejaVuSans-32\"/>\r\n      </defs>\r\n      <use xlink:href=\"#DejaVuSans-65\"/>\r\n      <use x=\"66.658203\" xlink:href=\"#DejaVuSans-99\"/>\r\n      <use x=\"121.638672\" xlink:href=\"#DejaVuSans-116\"/>\r\n      <use x=\"160.847656\" xlink:href=\"#DejaVuSans-117\"/>\r\n      <use x=\"224.226562\" xlink:href=\"#DejaVuSans-97\"/>\r\n      <use x=\"285.505859\" xlink:href=\"#DejaVuSans-108\"/>\r\n      <use x=\"313.289062\" xlink:href=\"#DejaVuSans-32\"/>\r\n      <use x=\"345.076172\" xlink:href=\"#DejaVuSans-80\"/>\r\n      <use x=\"403.628906\" xlink:href=\"#DejaVuSans-114\"/>\r\n      <use x=\"444.742188\" xlink:href=\"#DejaVuSans-105\"/>\r\n      <use x=\"472.525391\" xlink:href=\"#DejaVuSans-99\"/>\r\n      <use x=\"527.505859\" xlink:href=\"#DejaVuSans-101\"/>\r\n     </g>\r\n    </g>\r\n    <g id=\"line2d_16\">\r\n     <path d=\"M 62.328125 34.976562 \r\nL 82.328125 34.976562 \r\n\" style=\"fill:none;stroke:#ff0000;stroke-linecap:square;stroke-width:1.5;\"/>\r\n    </g>\r\n    <g id=\"line2d_17\"/>\r\n    <g id=\"text_15\">\r\n     <!-- Predicted Price -->\r\n     <g transform=\"translate(90.328125 38.476562)scale(0.1 -0.1)\">\r\n      <defs>\r\n       <path d=\"M 45.40625 46.390625 \r\nL 45.40625 75.984375 \r\nL 54.390625 75.984375 \r\nL 54.390625 0 \r\nL 45.40625 0 \r\nL 45.40625 8.203125 \r\nQ 42.578125 3.328125 38.25 0.953125 \r\nQ 33.9375 -1.421875 27.875 -1.421875 \r\nQ 17.96875 -1.421875 11.734375 6.484375 \r\nQ 5.515625 14.40625 5.515625 27.296875 \r\nQ 5.515625 40.1875 11.734375 48.09375 \r\nQ 17.96875 56 27.875 56 \r\nQ 33.9375 56 38.25 53.625 \r\nQ 42.578125 51.265625 45.40625 46.390625 \r\nz\r\nM 14.796875 27.296875 \r\nQ 14.796875 17.390625 18.875 11.75 \r\nQ 22.953125 6.109375 30.078125 6.109375 \r\nQ 37.203125 6.109375 41.296875 11.75 \r\nQ 45.40625 17.390625 45.40625 27.296875 \r\nQ 45.40625 37.203125 41.296875 42.84375 \r\nQ 37.203125 48.484375 30.078125 48.484375 \r\nQ 22.953125 48.484375 18.875 42.84375 \r\nQ 14.796875 37.203125 14.796875 27.296875 \r\nz\r\n\" id=\"DejaVuSans-100\"/>\r\n      </defs>\r\n      <use xlink:href=\"#DejaVuSans-80\"/>\r\n      <use x=\"58.552734\" xlink:href=\"#DejaVuSans-114\"/>\r\n      <use x=\"97.416016\" xlink:href=\"#DejaVuSans-101\"/>\r\n      <use x=\"158.939453\" xlink:href=\"#DejaVuSans-100\"/>\r\n      <use x=\"222.416016\" xlink:href=\"#DejaVuSans-105\"/>\r\n      <use x=\"250.199219\" xlink:href=\"#DejaVuSans-99\"/>\r\n      <use x=\"305.179688\" xlink:href=\"#DejaVuSans-116\"/>\r\n      <use x=\"344.388672\" xlink:href=\"#DejaVuSans-101\"/>\r\n      <use x=\"405.912109\" xlink:href=\"#DejaVuSans-100\"/>\r\n      <use x=\"469.388672\" xlink:href=\"#DejaVuSans-32\"/>\r\n      <use x=\"501.175781\" xlink:href=\"#DejaVuSans-80\"/>\r\n      <use x=\"559.728516\" xlink:href=\"#DejaVuSans-114\"/>\r\n      <use x=\"600.841797\" xlink:href=\"#DejaVuSans-105\"/>\r\n      <use x=\"628.625\" xlink:href=\"#DejaVuSans-99\"/>\r\n      <use x=\"683.605469\" xlink:href=\"#DejaVuSans-101\"/>\r\n     </g>\r\n    </g>\r\n   </g>\r\n  </g>\r\n </g>\r\n <defs>\r\n  <clipPath id=\"p45dbed17fb\">\r\n   <rect height=\"217.44\" width=\"334.8\" x=\"53.328125\" y=\"7.2\"/>\r\n  </clipPath>\r\n </defs>\r\n</svg>\r\n",
      "image/png": "[encoded data removed]"
     },
     "metadata": {
      "needs_background": "light"
     }
    }
   ],
   "source": [
    "# plot true/pred prices graph\n",
    "plot_graph(final_df)"
   ]
  },
  {
   "cell_type": "code",
   "execution_count": 64,
   "metadata": {},
   "outputs": [
    {
     "output_type": "stream",
     "name": "stdout",
     "text": [
      "                   open         high          low        close     adjclose  \\\n2021-04-06  3223.750000  3247.310059  3217.040039  3223.820068  3223.820068   \n2021-04-07  3233.800049  3303.610107  3223.649902  3279.389893  3279.389893   \n2021-04-08  3310.899902  3324.500000  3292.000000  3299.300049  3299.300049   \n2021-04-09  3304.699951  3372.199951  3288.899902  3372.199951  3372.199951   \n2021-04-12  3355.209961  3395.040039  3351.149902  3379.389893  3379.389893   \n2021-04-13  3400.850098  3432.000000  3395.629883  3400.000000  3400.000000   \n2021-04-14  3404.040039  3404.129883  3326.000000  3333.000000  3333.000000   \n2021-04-15  3371.000000  3397.000000  3352.000000  3379.090088  3379.090088   \n2021-04-16  3380.000000  3406.800049  3355.590088  3399.439941  3399.439941   \n2021-04-19  3390.330078  3435.929932  3360.159912  3372.010010  3372.010010   \n\n             volume ticker   adjclose_1  true_adjclose_1  buy_profit  \\\n2021-04-06  2537800   AMZN  3113.657715      3279.389893 -110.162354   \n2021-04-07  3346200   AMZN  3146.030273      3299.300049 -133.359619   \n2021-04-08  2812100   AMZN  3181.980469      3372.199951 -117.319580   \n2021-04-09  4334600   AMZN  3218.248535      3379.389893 -153.951416   \n2021-04-12  3281800   AMZN  3254.451172      3400.000000 -124.938721   \n2021-04-13  3315800   AMZN  3290.476074      3333.000000    0.000000   \n2021-04-14  3145200   AMZN  3314.215088      3379.090088  -18.784912   \n2021-04-15  3233600   AMZN  3330.204102      3399.439941  -48.885986   \n2021-04-16  3183300   AMZN  3341.981201      3372.010010    0.000000   \n2021-04-19  2722400   AMZN  3350.390381      3334.689941    0.000000   \n\n            sell_profit  \n2021-04-06     0.000000  \n2021-04-07     0.000000  \n2021-04-08     0.000000  \n2021-04-09     0.000000  \n2021-04-12     0.000000  \n2021-04-13   109.523926  \n2021-04-14     0.000000  \n2021-04-15     0.000000  \n2021-04-16    57.458740  \n2021-04-19    21.619629  \n"
     ]
    }
   ],
   "source": [
    "print(final_df.tail(10))\n",
    "# save the final dataframe to csv-results folder\n",
    "csv_results_folder = \"csv-results\"\n",
    "if not os.path.isdir(csv_results_folder):\n",
    "    os.mkdir(csv_results_folder)\n",
    "csv_filename = os.path.join(csv_results_folder, model_name + \".csv\")\n",
    "final_df.to_csv(csv_filename)"
   ]
  },
  {
   "cell_type": "code",
   "execution_count": null,
   "metadata": {},
   "outputs": [],
   "source": []
  }
 ]
}