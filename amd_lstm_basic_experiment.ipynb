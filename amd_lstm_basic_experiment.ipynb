{
  "nbformat": 4,
  "nbformat_minor": 0,
  "metadata": {
    "colab": {
      "name": "amd-lstm-basic-experiment.ipynb",
      "provenance": [],
      "collapsed_sections": []
    },
    "kernelspec": {
      "name": "python3",
      "display_name": "Python 3"
    },
    "language_info": {
      "name": "python"
    }
  },
  "cells": [
    {
      "cell_type": "code",
      "metadata": {
        "colab": {
          "base_uri": "https://localhost:8080/"
        },
        "id": "fPobbZlM4JFT",
        "outputId": "e0df96f9-43ba-4339-c90a-ed5a0440e615"
      },
      "source": [
        "!pip install yfinance"
      ],
      "execution_count": 2,
      "outputs": [
        {
          "output_type": "stream",
          "text": [
            "Collecting yfinance\n",
            "  Downloading https://files.pythonhosted.org/packages/a7/ee/315752b9ef281ba83c62aa7ec2e2074f85223da6e7e74efb4d3e11c0f510/yfinance-0.1.59.tar.gz\n",
            "Requirement already satisfied: pandas>=0.24 in /usr/local/lib/python3.7/dist-packages (from yfinance) (1.1.5)\n",
            "Requirement already satisfied: numpy>=1.15 in /usr/local/lib/python3.7/dist-packages (from yfinance) (1.19.5)\n",
            "Requirement already satisfied: requests>=2.20 in /usr/local/lib/python3.7/dist-packages (from yfinance) (2.23.0)\n",
            "Requirement already satisfied: multitasking>=0.0.7 in /usr/local/lib/python3.7/dist-packages (from yfinance) (0.0.9)\n",
            "Collecting lxml>=4.5.1\n",
            "\u001b[?25l  Downloading https://files.pythonhosted.org/packages/cf/4d/6537313bf58fe22b508f08cf3eb86b29b6f9edf68e00454224539421073b/lxml-4.6.3-cp37-cp37m-manylinux1_x86_64.whl (5.5MB)\n",
            "\u001b[K     |████████████████████████████████| 5.5MB 7.7MB/s \n",
            "\u001b[?25hRequirement already satisfied: pytz>=2017.2 in /usr/local/lib/python3.7/dist-packages (from pandas>=0.24->yfinance) (2018.9)\n",
            "Requirement already satisfied: python-dateutil>=2.7.3 in /usr/local/lib/python3.7/dist-packages (from pandas>=0.24->yfinance) (2.8.1)\n",
            "Requirement already satisfied: idna<3,>=2.5 in /usr/local/lib/python3.7/dist-packages (from requests>=2.20->yfinance) (2.10)\n",
            "Requirement already satisfied: urllib3!=1.25.0,!=1.25.1,<1.26,>=1.21.1 in /usr/local/lib/python3.7/dist-packages (from requests>=2.20->yfinance) (1.24.3)\n",
            "Requirement already satisfied: certifi>=2017.4.17 in /usr/local/lib/python3.7/dist-packages (from requests>=2.20->yfinance) (2020.12.5)\n",
            "Requirement already satisfied: chardet<4,>=3.0.2 in /usr/local/lib/python3.7/dist-packages (from requests>=2.20->yfinance) (3.0.4)\n",
            "Requirement already satisfied: six>=1.5 in /usr/local/lib/python3.7/dist-packages (from python-dateutil>=2.7.3->pandas>=0.24->yfinance) (1.15.0)\n",
            "Building wheels for collected packages: yfinance\n",
            "  Building wheel for yfinance (setup.py) ... \u001b[?25l\u001b[?25hdone\n",
            "  Created wheel for yfinance: filename=yfinance-0.1.59-py2.py3-none-any.whl size=23442 sha256=0601e8c7d268f535471e3a381bcb21d4a1aabe6f50b5f76c9014cf9688d68336\n",
            "  Stored in directory: /root/.cache/pip/wheels/f8/2a/0f/4b5a86e1d52e451757eb6bc17fd899629f0925c777741b6d04\n",
            "Successfully built yfinance\n",
            "Installing collected packages: lxml, yfinance\n",
            "  Found existing installation: lxml 4.2.6\n",
            "    Uninstalling lxml-4.2.6:\n",
            "      Successfully uninstalled lxml-4.2.6\n",
            "Successfully installed lxml-4.6.3 yfinance-0.1.59\n"
          ],
          "name": "stdout"
        }
      ]
    },
    {
      "cell_type": "code",
      "metadata": {
        "id": "I_7fuEtv4VgN"
      },
      "source": [
        "import yfinance as yf\n",
        "\n",
        "amd = yf.Ticker(\"AMD\")\n",
        "amd_hist_train = amd.history(start=\"2016-01-01\", end=\"2020-01-01\")\n",
        "amd_hist_test = amd.history(start=\"2020-01-01\", end=\"2021-01-01\")"
      ],
      "execution_count": 39,
      "outputs": []
    },
    {
      "cell_type": "code",
      "metadata": {
        "colab": {
          "base_uri": "https://localhost:8080/",
          "height": 446
        },
        "id": "N0zMi6Vrv6DY",
        "outputId": "0ad1baf5-72e0-46c4-f6b1-97417a0089a2"
      },
      "source": [
        "train_data = amd_hist_train.drop(columns=[\"Dividends\", \"Stock Splits\"])\n",
        "test_data = amd_hist_test.drop(columns=[\"Dividends\", \"Stock Splits\"])\n",
        "\n",
        "train_data = amd_hist_train[[\"Open\"]]\n",
        "test_data = amd_hist_test[[\"Open\"]]\n",
        "\n",
        "train_data"
      ],
      "execution_count": 78,
      "outputs": [
        {
          "output_type": "execute_result",
          "data": {
            "text/html": [
              "<div>\n",
              "<style scoped>\n",
              "    .dataframe tbody tr th:only-of-type {\n",
              "        vertical-align: middle;\n",
              "    }\n",
              "\n",
              "    .dataframe tbody tr th {\n",
              "        vertical-align: top;\n",
              "    }\n",
              "\n",
              "    .dataframe thead th {\n",
              "        text-align: right;\n",
              "    }\n",
              "</style>\n",
              "<table border=\"1\" class=\"dataframe\">\n",
              "  <thead>\n",
              "    <tr style=\"text-align: right;\">\n",
              "      <th></th>\n",
              "      <th>Open</th>\n",
              "    </tr>\n",
              "    <tr>\n",
              "      <th>Date</th>\n",
              "      <th></th>\n",
              "    </tr>\n",
              "  </thead>\n",
              "  <tbody>\n",
              "    <tr>\n",
              "      <th>2016-01-04</th>\n",
              "      <td>2.770000</td>\n",
              "    </tr>\n",
              "    <tr>\n",
              "      <th>2016-01-05</th>\n",
              "      <td>2.770000</td>\n",
              "    </tr>\n",
              "    <tr>\n",
              "      <th>2016-01-06</th>\n",
              "      <td>2.660000</td>\n",
              "    </tr>\n",
              "    <tr>\n",
              "      <th>2016-01-07</th>\n",
              "      <td>2.430000</td>\n",
              "    </tr>\n",
              "    <tr>\n",
              "      <th>2016-01-08</th>\n",
              "      <td>2.360000</td>\n",
              "    </tr>\n",
              "    <tr>\n",
              "      <th>...</th>\n",
              "      <td>...</td>\n",
              "    </tr>\n",
              "    <tr>\n",
              "      <th>2019-12-24</th>\n",
              "      <td>46.099998</td>\n",
              "    </tr>\n",
              "    <tr>\n",
              "      <th>2019-12-26</th>\n",
              "      <td>46.990002</td>\n",
              "    </tr>\n",
              "    <tr>\n",
              "      <th>2019-12-27</th>\n",
              "      <td>46.849998</td>\n",
              "    </tr>\n",
              "    <tr>\n",
              "      <th>2019-12-30</th>\n",
              "      <td>46.139999</td>\n",
              "    </tr>\n",
              "    <tr>\n",
              "      <th>2019-12-31</th>\n",
              "      <td>45.070000</td>\n",
              "    </tr>\n",
              "  </tbody>\n",
              "</table>\n",
              "<p>1006 rows × 1 columns</p>\n",
              "</div>"
            ],
            "text/plain": [
              "                 Open\n",
              "Date                 \n",
              "2016-01-04   2.770000\n",
              "2016-01-05   2.770000\n",
              "2016-01-06   2.660000\n",
              "2016-01-07   2.430000\n",
              "2016-01-08   2.360000\n",
              "...               ...\n",
              "2019-12-24  46.099998\n",
              "2019-12-26  46.990002\n",
              "2019-12-27  46.849998\n",
              "2019-12-30  46.139999\n",
              "2019-12-31  45.070000\n",
              "\n",
              "[1006 rows x 1 columns]"
            ]
          },
          "metadata": {
            "tags": []
          },
          "execution_count": 78
        }
      ]
    },
    {
      "cell_type": "code",
      "metadata": {
        "id": "JwiMiQ0Lv8te"
      },
      "source": [
        "from sklearn.preprocessing import MinMaxScaler\n",
        "sc = MinMaxScaler(feature_range = (0, 1))\n",
        "\n",
        "train_scaled = sc.fit_transform(train_data)\n",
        "test_scaled = sc.transform(test_data)"
      ],
      "execution_count": 79,
      "outputs": []
    },
    {
      "cell_type": "code",
      "metadata": {
        "id": "fXtPCqiFxS0q"
      },
      "source": [
        "import numpy as np\n",
        "# à partir de 1000 lignes, crée 940 groupes de 60 lignes qui se suivent\n",
        "def create_60_days_data(data):\n",
        "  X = []\n",
        "  y = []\n",
        "  for i in range(60, len(data)):\n",
        "      X.append(data[i-60:i, 0])\n",
        "      y.append(data[i, 0])\n",
        "  X, y = np.array(X), np.array(y)\n",
        "  X = np.reshape(X, (X.shape[0], X.shape[1], 1))\n",
        "  return X, y\n",
        "\n",
        "X_train, y_train = create_60_days_data(train_scaled)\n",
        "X_test, y_test = create_60_days_data(test_scaled)"
      ],
      "execution_count": 80,
      "outputs": []
    },
    {
      "cell_type": "code",
      "metadata": {
        "id": "Jc4DWSUp2GGi"
      },
      "source": [
        "assert len(X_train) == len(y_train)\n",
        "assert len(X_test) == len(y_test)"
      ],
      "execution_count": 81,
      "outputs": []
    },
    {
      "cell_type": "code",
      "metadata": {
        "colab": {
          "base_uri": "https://localhost:8080/"
        },
        "id": "WsJCLHVC0hQ9",
        "outputId": "a04df9ae-972d-4ce6-d08f-a5751f434bd1"
      },
      "source": [
        "from keras.models import Sequential\n",
        "from keras.layers import Dense\n",
        "from keras.layers import LSTM\n",
        "from keras.layers import Dropout\n",
        "\n",
        "regressor = Sequential()\n",
        "\n",
        "regressor.add(LSTM(units = 50, return_sequences = True, input_shape = (X_train.shape[1], 1)))\n",
        "regressor.add(Dropout(0.5))\n",
        "\n",
        "regressor.add(LSTM(units = 50, return_sequences = True))\n",
        "regressor.add(Dropout(0.5))\n",
        "\n",
        "regressor.add(LSTM(units = 50, return_sequences = True))\n",
        "regressor.add(Dropout(0.5))\n",
        "\n",
        "regressor.add(LSTM(units = 50))\n",
        "regressor.add(Dropout(0.5))\n",
        "\n",
        "regressor.add(Dense(units = 1))\n",
        "\n",
        "regressor.compile(optimizer = 'adam', loss = 'mean_squared_error')\n",
        "\n",
        "regressor.fit(X_train, y_train, epochs = 20, batch_size = 32)\n"
      ],
      "execution_count": 82,
      "outputs": [
        {
          "output_type": "stream",
          "text": [
            "Epoch 1/20\n",
            "30/30 [==============================] - 11s 122ms/step - loss: 0.0452\n",
            "Epoch 2/20\n",
            "30/30 [==============================] - 4s 122ms/step - loss: 0.0092\n",
            "Epoch 3/20\n",
            "30/30 [==============================] - 4s 125ms/step - loss: 0.0089\n",
            "Epoch 4/20\n",
            "30/30 [==============================] - 4s 125ms/step - loss: 0.0086\n",
            "Epoch 5/20\n",
            "30/30 [==============================] - 4s 123ms/step - loss: 0.0070\n",
            "Epoch 6/20\n",
            "30/30 [==============================] - 4s 123ms/step - loss: 0.0071\n",
            "Epoch 7/20\n",
            "30/30 [==============================] - 4s 122ms/step - loss: 0.0064\n",
            "Epoch 8/20\n",
            "30/30 [==============================] - 4s 123ms/step - loss: 0.0058\n",
            "Epoch 9/20\n",
            "30/30 [==============================] - 4s 123ms/step - loss: 0.0067\n",
            "Epoch 10/20\n",
            "30/30 [==============================] - 4s 122ms/step - loss: 0.0056\n",
            "Epoch 11/20\n",
            "30/30 [==============================] - 4s 123ms/step - loss: 0.0061\n",
            "Epoch 12/20\n",
            "30/30 [==============================] - 4s 123ms/step - loss: 0.0057\n",
            "Epoch 13/20\n",
            "30/30 [==============================] - 4s 123ms/step - loss: 0.0060\n",
            "Epoch 14/20\n",
            "30/30 [==============================] - 4s 121ms/step - loss: 0.0048\n",
            "Epoch 15/20\n",
            "30/30 [==============================] - 4s 122ms/step - loss: 0.0048\n",
            "Epoch 16/20\n",
            "30/30 [==============================] - 4s 123ms/step - loss: 0.0048\n",
            "Epoch 17/20\n",
            "30/30 [==============================] - 4s 121ms/step - loss: 0.0047\n",
            "Epoch 18/20\n",
            "30/30 [==============================] - 4s 125ms/step - loss: 0.0054\n",
            "Epoch 19/20\n",
            "30/30 [==============================] - 4s 123ms/step - loss: 0.0045\n",
            "Epoch 20/20\n",
            "30/30 [==============================] - 4s 125ms/step - loss: 0.0041\n"
          ],
          "name": "stdout"
        },
        {
          "output_type": "execute_result",
          "data": {
            "text/plain": [
              "<tensorflow.python.keras.callbacks.History at 0x7fcf3e144110>"
            ]
          },
          "metadata": {
            "tags": []
          },
          "execution_count": 82
        }
      ]
    },
    {
      "cell_type": "code",
      "metadata": {
        "colab": {
          "base_uri": "https://localhost:8080/"
        },
        "id": "LZLq8yAh3Idm",
        "outputId": "7a3fc34b-c27f-4449-c5f2-210cd53ccbc3"
      },
      "source": [
        "import matplotlib.pyplot as plt\n",
        "\n",
        "predicted_stock_price = regressor.predict(X_test)\n",
        "predicted_stock_price = sc.inverse_transform(predicted_stock_price)\n",
        "\n",
        "real_stock_price = test_data[\"Open\"].values\n",
        "real_stock_price = real_stock_price[60:]\n",
        "real_stock_price"
      ],
      "execution_count": 100,
      "outputs": [
        {
          "output_type": "execute_result",
          "data": {
            "text/plain": [
              "array([47.24000168, 47.93000031, 44.18000031, 43.40000153, 44.29999924,\n",
              "       44.29999924, 48.95999908, 48.06999969, 49.65000153, 48.47000122,\n",
              "       52.24000168, 53.72999954, 55.95999908, 57.34999847, 55.97999954,\n",
              "       56.90000153, 54.90999985, 56.65000153, 55.09999847, 57.43999863,\n",
              "       57.15999985, 54.52999878, 53.43000031, 51.06999969, 49.81999969,\n",
              "       53.43000031, 52.41999817, 52.93000031, 52.15000153, 52.90000153,\n",
              "       56.20999908, 54.04000092, 52.09999847, 53.31999969, 54.97999954,\n",
              "       54.38999939, 56.54999924, 56.68000031, 54.77000046, 56.00999832,\n",
              "       53.27000046, 52.25      , 52.06999969, 53.31000137, 53.45000076,\n",
              "       53.59999847, 52.59000015, 52.99000168, 53.29999924, 52.95000076,\n",
              "       57.20000076, 55.93999863, 55.00999832, 52.58000183, 55.72000122,\n",
              "       54.79000092, 54.61999893, 54.40999985, 54.66999817, 55.04999924,\n",
              "       53.93999863, 52.56000137, 51.84999847, 50.15000153, 51.15999985,\n",
              "       52.63000107, 53.02999878, 52.90000153, 53.27999878, 53.00999832,\n",
              "       53.52000046, 57.54000092, 56.68000031, 53.29999924, 54.95999908,\n",
              "       54.68000031, 55.31000137, 55.22999954, 57.81000137, 57.06999969,\n",
              "       61.63000107, 64.18000031, 69.27999878, 68.09999847, 75.5       ,\n",
              "       75.37000275, 78.66999817, 78.19000244, 78.02999878, 84.95999908,\n",
              "       85.48999786, 86.66999817, 85.05000305, 80.70999908, 78.43000031,\n",
              "       82.87999725, 81.80999756, 82.08999634, 82.80000305, 81.77999878,\n",
              "       79.73999786, 83.29000092, 84.55000305, 83.36000061, 86.97000122,\n",
              "       86.34999847, 84.30000305, 85.05000305, 91.91999817, 94.01000214,\n",
              "       87.83999634, 81.44999695, 78.05000305, 81.40000153, 83.06999969,\n",
              "       79.81999969, 76.80000305, 77.66000366, 79.34999847, 74.87999725,\n",
              "       77.        , 74.23000336, 78.36000061, 77.38999939, 74.54000092,\n",
              "       76.34999847, 79.12000275, 79.30000305, 81.75      , 83.05999756,\n",
              "       82.58000183, 82.55000305, 86.20999908, 86.09999847, 88.11000061,\n",
              "       84.73999786, 83.65000153, 84.86000061, 85.86000061, 83.40000153,\n",
              "       83.54000092, 83.62000275, 82.16000366, 81.72000122, 79.65000153,\n",
              "       80.93000031, 82.55000305, 82.        , 78.73000336, 76.75      ,\n",
              "       77.08999634, 75.84999847, 74.93000031, 80.25      , 83.26999664,\n",
              "       83.51999664, 84.23999786, 81.93000031, 79.38999939, 81.31999969,\n",
              "       82.73000336, 81.20999908, 83.93000031, 83.01000214, 82.38999939,\n",
              "       85.27999878, 85.51999664, 85.72000122, 85.76000214, 87.98999786,\n",
              "       87.33000183, 92.25      , 92.88999939, 94.05999756, 92.58000183,\n",
              "       94.94999695, 94.05000305, 92.76000214, 89.55000305, 91.54000092,\n",
              "       92.20999908, 95.93000031, 97.04000092, 97.55000305, 97.26999664,\n",
              "       94.25      , 93.36000061, 93.08000183, 91.80000305, 92.93000031,\n",
              "       91.66000366, 90.77999878, 92.09999847])"
            ]
          },
          "metadata": {
            "tags": []
          },
          "execution_count": 100
        }
      ]
    },
    {
      "cell_type": "code",
      "metadata": {
        "colab": {
          "base_uri": "https://localhost:8080/",
          "height": 295
        },
        "id": "b9WHWsfX6sVf",
        "outputId": "ecb4c2ed-7173-4f9b-8c9e-37f921c3178c"
      },
      "source": [
        "plt.plot(real_stock_price, color = 'black', label = 'AMD Stock Price')\n",
        "plt.plot(predicted_stock_price, color = 'green', label = 'Predicted AMD Stock Price')\n",
        "plt.title('AMD Stock Price Prediction 2020')\n",
        "plt.xlabel('Time (days)')\n",
        "plt.ylabel('AMD Stock Price')\n",
        "plt.legend()\n",
        "plt.show()"
      ],
      "execution_count": 103,
      "outputs": [
        {
          "output_type": "display_data",
          "data": {
            "image/png": "[encoded data removed]",
            "text/plain": [
              "<Figure size 432x288 with 1 Axes>"
            ]
          },
          "metadata": {
            "tags": [],
            "needs_background": "light"
          }
        }
      ]
    },
    {
      "cell_type": "code",
      "metadata": {
        "id": "ey49nh3k79xr"
      },
      "source": [
        ""
      ],
      "execution_count": null,
      "outputs": []
    }
  ]
}